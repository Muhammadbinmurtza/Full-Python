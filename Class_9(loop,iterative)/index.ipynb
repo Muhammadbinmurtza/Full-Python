{
 "cells": [
  {
   "cell_type": "markdown",
   "metadata": {},
   "source": [
    "# Lopp and  input from user\n",
    "* while\n",
    "* for\n",
    "* contro;s\n",
    "    * break\n",
    "    * continue\n",
    "    * pass\n",
    "* input with the  input function\n",
    "* input from console\n",
    "# Loop working on iterative data types\n",
    "* list\n",
    "* dictionary\n",
    "* tuple\n",
    "* string"
   ]
  },
  {
   "cell_type": "code",
   "execution_count": 1,
   "metadata": {},
   "outputs": [
    {
     "name": "stdout",
     "output_type": "stream",
     "text": [
      "[1, 2, 3, 4, 5, 6]\n"
     ]
    }
   ],
   "source": [
    "#                 0 1 2 3 4 5  \n",
    "l1 : list[int] = [1,2,3,4,5,6]\n",
    "print(l1)"
   ]
  },
  {
   "cell_type": "code",
   "execution_count": 3,
   "metadata": {},
   "outputs": [
    {
     "name": "stdout",
     "output_type": "stream",
     "text": [
      "1\n",
      "2\n",
      "3\n",
      "4\n",
      "5\n",
      "6\n",
      "6\n"
     ]
    }
   ],
   "source": [
    "# iteration\n",
    "#                 0 1 2 3 4 5  \n",
    "l1 : list[int] = [1,2,3,4,5,6]\n",
    "for n in l1:\n",
    "    print(n)\n",
    "print(n)"
   ]
  },
  {
   "cell_type": "code",
   "execution_count": 4,
   "metadata": {},
   "outputs": [
    {
     "name": "stdout",
     "output_type": "stream",
     "text": [
      "1\n",
      "2\n",
      "3\n",
      "4\n",
      "5\n",
      "6\n"
     ]
    }
   ],
   "source": [
    "# iteration\n",
    "#                 0 1 2 3 4 5  \n",
    "l1 : tuple[int] = (1,2,3,4,5,6)\n",
    "for n in l1:\n",
    "    print(n)"
   ]
  },
  {
   "cell_type": "code",
   "execution_count": 5,
   "metadata": {},
   "outputs": [
    {
     "name": "stdout",
     "output_type": "stream",
     "text": [
      "p\n",
      "a\n",
      "k\n",
      "i\n",
      "s\n",
      "t\n",
      "a\n",
      "n\n"
     ]
    }
   ],
   "source": [
    "l1 : str = \"pakistan\"\n",
    "for  c in l1:\n",
    "    print(c)"
   ]
  },
  {
   "cell_type": "code",
   "execution_count": 2,
   "metadata": {},
   "outputs": [],
   "source": [
    "from typing import Dict\n",
    "l1 :  dict[str,str] = {'muhammad':'mian', 'talha':'malik'}\n",
    "for  g,f in l1.items():\n",
    "    print(g)\n",
    "    print(f)"
   ]
  },
  {
   "cell_type": "code",
   "execution_count": 1,
   "metadata": {},
   "outputs": [
    {
     "name": "stdout",
     "output_type": "stream",
     "text": [
      "1\n",
      "2\n",
      "3\n",
      "4\n",
      "5\n",
      "6\n"
     ]
    }
   ],
   "source": [
    "l1 :set[int] = {1,2,1,3,4,5,6}\n",
    "for k  in l1:\n",
    "    print(k)"
   ]
  },
  {
   "cell_type": "markdown",
   "metadata": {},
   "source": [
    "# input from user\n",
    "*  input function\n",
    "* sys.agrv(for console  input in abc.py file)\n",
    "    * default type = string"
   ]
  },
  {
   "cell_type": "code",
   "execution_count": null,
   "metadata": {},
   "outputs": [],
   "source": [
    "import  sys\n",
    "print('list1')\n",
    "print('list2')\n",
    "print(sys.argv)"
   ]
  },
  {
   "cell_type": "markdown",
   "metadata": {},
   "source": [
    "# While Loop\n",
    "```\n",
    "while logic: # true / false\n",
    "    loop_body\n",
    "```"
   ]
  },
  {
   "cell_type": "code",
   "execution_count": 5,
   "metadata": {},
   "outputs": [
    {
     "name": "stdout",
     "output_type": "stream",
     "text": [
      "muhammad\n",
      "current number \t 1\n",
      "muhammad\n",
      "current number \t 2\n",
      "muhammad\n",
      "current number \t 3\n",
      "muhammad\n",
      "current number \t 4\n",
      "muhammad\n",
      "current number \t 5\n",
      "muhammad\n",
      "current number \t 6\n",
      "muhammad\n",
      "current number \t 7\n",
      "muhammad\n",
      "current number \t 8\n",
      "muhammad\n",
      "current number \t 9\n"
     ]
    }
   ],
   "source": [
    "flag : bool = True\n",
    "cur : int = 1\n",
    "while flag:\n",
    "    print(\"muhammad\")\n",
    "    print(f\"current number \\t {cur}\")\n",
    "    cur += 1\n",
    "    if cur == 10:\n",
    "        break\n",
    "    "
   ]
  },
  {
   "cell_type": "code",
   "execution_count": 9,
   "metadata": {},
   "outputs": [
    {
     "name": "stdout",
     "output_type": "stream",
     "text": [
      "100\n",
      "200\n",
      "300\n"
     ]
    }
   ],
   "source": [
    "l1 : list[int] = [100,200,300]\n",
    "a1 : int = 0\n",
    "while  a1 < len(l1):\n",
    "    print(l1[a1])\n",
    "    a1 += 1"
   ]
  },
  {
   "cell_type": "code",
   "execution_count": 11,
   "metadata": {},
   "outputs": [
    {
     "name": "stdout",
     "output_type": "stream",
     "text": [
      "4\n",
      "5\n",
      "6\n",
      "7\n",
      "8\n",
      "9\n",
      "10\n"
     ]
    }
   ],
   "source": [
    "l1: list[int] = [3,4,5,6,7,8,9,10]\n",
    "a1 : int  = 1\n",
    "while a1 < len(l1):\n",
    "    print(l1[a1])\n",
    "    a1 += 1"
   ]
  },
  {
   "cell_type": "code",
   "execution_count": 1,
   "metadata": {},
   "outputs": [
    {
     "name": "stdout",
     "output_type": "stream",
     "text": [
      "w\n"
     ]
    }
   ],
   "source": [
    "data : list[dict[str,str]] = []\n",
    "flag  : bool = True\n",
    "while flag:\n",
    "    print(\"w\")\n",
    "    break"
   ]
  },
  {
   "cell_type": "markdown",
   "metadata": {},
   "source": [
    "#  Control\n",
    "    * break\n",
    "    * continue\n",
    "        * skip\n",
    "    * pass  "
   ]
  },
  {
   "cell_type": "code",
   "execution_count": 2,
   "metadata": {},
   "outputs": [
    {
     "name": "stdout",
     "output_type": "stream",
     "text": [
      "1\n",
      "2\n",
      "3\n",
      "4\n",
      "6\n",
      "7\n",
      "8\n",
      "9\n",
      "10\n"
     ]
    }
   ],
   "source": [
    "for i in range(1,11): # careating a  range from 1 to 10\n",
    "    if i==5:\n",
    "        continue # this will skip the step\n",
    "    print(i)"
   ]
  },
  {
   "cell_type": "markdown",
   "metadata": {},
   "source": [
    "* Pass"
   ]
  },
  {
   "cell_type": "code",
   "execution_count": 4,
   "metadata": {},
   "outputs": [],
   "source": [
    "for i in range(1,1000):\n",
    "    pass # pass doesnt generate the error\n",
    "# Pass skips the error"
   ]
  },
  {
   "cell_type": "markdown",
   "metadata": {},
   "source": [
    "# ASSIGNMENT"
   ]
  },
  {
   "cell_type": "code",
   "execution_count": 7,
   "metadata": {},
   "outputs": [
    {
     "name": "stdout",
     "output_type": "stream",
     "text": [
      "let me see if i can find you a LAMBO\n"
     ]
    }
   ],
   "source": [
    "car : str = input(\"what kinda rental  car they like?\")\n",
    "print(f\"let me see if i can find you a {car.upper()}\")"
   ]
  },
  {
   "cell_type": "code",
   "execution_count": 9,
   "metadata": {},
   "outputs": [
    {
     "name": "stdout",
     "output_type": "stream",
     "text": [
      "your  table is  ready\n"
     ]
    }
   ],
   "source": [
    "rest : str = int(input('How many people  are there in their work group'))\n",
    "while rest > 8:\n",
    "    print(\"wait for the reservation\")\n",
    "    break\n",
    "else:\n",
    "    print(\"your  table is  ready\")\n",
    "    "
   ]
  },
  {
   "cell_type": "code",
   "execution_count": 15,
   "metadata": {},
   "outputs": [
    {
     "name": "stdout",
     "output_type": "stream",
     "text": [
      "the no  is  multiple of 10\n"
     ]
    }
   ],
   "source": [
    "num =  int(input(\"please  give the number\"))\n",
    "while num % 10 == 0:\n",
    "    print(\"the no  is  multiple of 10\")\n",
    "    break"
   ]
  },
  {
   "cell_type": "code",
   "execution_count": 21,
   "metadata": {},
   "outputs": [
    {
     "name": "stdout",
     "output_type": "stream",
     "text": [
      "you wanna add gfdgf\n",
      "you wanna add dgdhd\n",
      "you wanna add dhdhd\n",
      "you wanna add d\n",
      "you wanna add hdhsdgghdhdgh\n",
      "you wanna add dh\n",
      "you wanna add dh\n"
     ]
    }
   ],
   "source": [
    "prompt : str = \"what topping would you like to have?\"\n",
    "while True:\n",
    "    pizza_topping = input(prompt)\n",
    "    if pizza_topping == 'quit':\n",
    "        break\n",
    "    else:\n",
    "        print(f\"you wanna add {pizza_topping}\")\n",
    "    "
   ]
  },
  {
   "cell_type": "code",
   "execution_count": 22,
   "metadata": {},
   "outputs": [
    {
     "name": "stdout",
     "output_type": "stream",
     "text": [
      "the ticket price  is $15\n"
     ]
    }
   ],
   "source": [
    "age : str = int(input(\"what is your age?\"))\n",
    "if  age< 3 :\n",
    "    print(\"your ticket is free\")\n",
    "elif age >=3 and age <= 12:\n",
    "    print(\"your ticket price is $10\")\n",
    "elif age > 12:\n",
    "    print(\"your ticket price  is $15\")"
   ]
  },
  {
   "cell_type": "code",
   "execution_count": null,
   "metadata": {},
   "outputs": [],
   "source": []
  }
 ],
 "metadata": {
  "kernelspec": {
   "display_name": "Python13",
   "language": "python",
   "name": "python3"
  },
  "language_info": {
   "codemirror_mode": {
    "name": "ipython",
    "version": 3
   },
   "file_extension": ".py",
   "mimetype": "text/x-python",
   "name": "python",
   "nbconvert_exporter": "python",
   "pygments_lexer": "ipython3",
   "version": "3.12.4"
  }
 },
 "nbformat": 4,
 "nbformat_minor": 2
}
