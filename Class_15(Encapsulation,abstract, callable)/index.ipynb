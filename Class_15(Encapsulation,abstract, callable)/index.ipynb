{
 "cells": [
  {
   "cell_type": "code",
   "execution_count": 1,
   "metadata": {},
   "outputs": [
    {
     "data": {
      "text/plain": [
       "['__abstractmethods__',\n",
       " '__annotations__',\n",
       " '__base__',\n",
       " '__bases__',\n",
       " '__basicsize__',\n",
       " '__call__',\n",
       " '__class__',\n",
       " '__delattr__',\n",
       " '__dict__',\n",
       " '__dictoffset__',\n",
       " '__dir__',\n",
       " '__doc__',\n",
       " '__eq__',\n",
       " '__flags__',\n",
       " '__format__',\n",
       " '__ge__',\n",
       " '__getattribute__',\n",
       " '__getstate__',\n",
       " '__gt__',\n",
       " '__hash__',\n",
       " '__init__',\n",
       " '__init_subclass__',\n",
       " '__instancecheck__',\n",
       " '__itemsize__',\n",
       " '__le__',\n",
       " '__lt__',\n",
       " '__module__',\n",
       " '__mro__',\n",
       " '__name__',\n",
       " '__ne__',\n",
       " '__new__',\n",
       " '__or__',\n",
       " '__prepare__',\n",
       " '__qualname__',\n",
       " '__reduce__',\n",
       " '__reduce_ex__',\n",
       " '__repr__',\n",
       " '__ror__',\n",
       " '__setattr__',\n",
       " '__sizeof__',\n",
       " '__str__',\n",
       " '__subclasscheck__',\n",
       " '__subclasses__',\n",
       " '__subclasshook__',\n",
       " '__text_signature__',\n",
       " '__type_params__',\n",
       " '__weakrefoffset__',\n",
       " 'mro']"
      ]
     },
     "execution_count": 1,
     "metadata": {},
     "output_type": "execute_result"
    }
   ],
   "source": [
    "dir(type)"
   ]
  },
  {
   "cell_type": "code",
   "execution_count": 1,
   "metadata": {},
   "outputs": [
    {
     "name": "stdout",
     "output_type": "stream",
     "text": [
      "[12]\n",
      "12.0\n",
      "[12, 20]\n",
      "16.0\n",
      "[12, 20, 30]\n",
      "20.666666666666668\n"
     ]
    }
   ],
   "source": [
    "from typing import Any\n",
    "\n",
    "\n",
    "class Average:\n",
    "    def __init__(self) -> None:\n",
    "        self.data = []\n",
    "        \n",
    "    \n",
    "    def __call__(self, new_var):\n",
    "        self.data.append(new_var)\n",
    "        print(self.data)\n",
    "        return sum(self.data) / len(self.data)\n",
    "    \n",
    "stream : Average = Average()\n",
    "print(stream(12))\n",
    "print(stream(20))\n",
    "print(stream(30))\n",
    "# in callable function the value we pass to instance goes to the callable function which is written as __call__ and then it prints what it has or returns the we gave to it to return "
   ]
  },
  {
   "cell_type": "code",
   "execution_count": 10,
   "metadata": {},
   "outputs": [
    {
     "data": {
      "text/plain": [
       "{0: 1, 1: 1, 2: 2, 3: 6, 4: 24, 5: 120}"
      ]
     },
     "execution_count": 10,
     "metadata": {},
     "output_type": "execute_result"
    }
   ],
   "source": [
    "from typing import Any\n",
    "\n",
    "\n",
    "class Factorial:\n",
    "    def __init__(self) -> None:\n",
    "        self.cache = {0: 1, 1: 1}\n",
    "\n",
    "    def __call__(self,number) :\n",
    "        if number not in self.cache:\n",
    "            self.cache[number] = number * self(number - 1)\n",
    "        return self.cache[number]\n",
    "        \n",
    "factorial_of = Factorial()\n",
    "factorial_of(4)\n",
    "factorial_of(5)\n",
    "factorial_of.cache\n",
    " "
   ]
  },
  {
   "cell_type": "markdown",
   "metadata": {},
   "source": [
    "# Access modifier\n",
    "* Public\n",
    "* Private\n",
    "* Protected"
   ]
  },
  {
   "cell_type": "code",
   "execution_count": 11,
   "metadata": {},
   "outputs": [
    {
     "name": "stdout",
     "output_type": "stream",
     "text": [
      "0800\n"
     ]
    }
   ],
   "source": [
    "class Piaic():\n",
    "    def __init__(self) -> None:\n",
    "        # self.name is public\n",
    "        self.piaic_helpline : str = \"0800\" \n",
    "        # self._name   protected\n",
    "        self._total_expense : int = 767686\n",
    "        # self.__name    private\n",
    "        self.__test_annoucement : str = \" 5 nov\"\n",
    "\n",
    "isfhan : Piaic = Piaic()\n",
    "print(isfhan.piaic_helpline)"
   ]
  },
  {
   "cell_type": "code",
   "execution_count": 12,
   "metadata": {},
   "outputs": [
    {
     "name": "stdout",
     "output_type": "stream",
     "text": [
      "03004584650\n"
     ]
    }
   ],
   "source": [
    "isfhan.piaic_helpline = \"03004584650\"\n",
    "print(isfhan.piaic_helpline)  # has been changed due to public data"
   ]
  },
  {
   "cell_type": "code",
   "execution_count": 14,
   "metadata": {},
   "outputs": [
    {
     "data": {
      "text/plain": [
       "' 5 nov'"
      ]
     },
     "execution_count": 14,
     "metadata": {},
     "output_type": "execute_result"
    }
   ],
   "source": [
    "isfhan._Piaic__test_annoucement\n",
    "# that is how we access the private data"
   ]
  },
  {
   "cell_type": "markdown",
   "metadata": {},
   "source": [
    "# Encapsulation"
   ]
  },
  {
   "cell_type": "code",
   "execution_count": 16,
   "metadata": {},
   "outputs": [
    {
     "name": "stdout",
     "output_type": "stream",
     "text": [
      "connected successfully\n",
      "Valid User\n"
     ]
    }
   ],
   "source": [
    "class StudentLogin():\n",
    "    def __init__(self) -> None:\n",
    "        self.__username : str = \"admin\"\n",
    "        self.__password : str = \"admin\"\n",
    "\n",
    "    def __dbconnectivity(self, user : str , password : str):\n",
    "        print(\"connected successfully\")\n",
    "        if user == self.__username and password == self.__password:\n",
    "            return \"Valid User\"\n",
    "        else:\n",
    "            return \"Invalid User\"\n",
    "        \n",
    "    def update_password(self, password):\n",
    "        self.__password = password\n",
    "    \n",
    "    def student_login(self,user1 : str , pass1 : str):\n",
    "        user_print = self.__dbconnectivity(user1,pass1)\n",
    "        print(user_print)\n",
    "\n",
    "    def display_info(self):\n",
    "        print(f\"Welcome the best : {self.__username} anbd your password is : {self.__password}\")\n",
    "    \n",
    "muhammad : StudentLogin = StudentLogin()\n",
    "muhammad.student_login(\"admin\",\"admin\")\n",
    "\n"
   ]
  },
  {
   "cell_type": "code",
   "execution_count": 27,
   "metadata": {},
   "outputs": [
    {
     "name": "stdout",
     "output_type": "stream",
     "text": [
      "connected successfully\n",
      "Invalid User\n",
      "Welcome the best : admin anbd your password is : muhammad\n"
     ]
    }
   ],
   "source": [
    "class StudentLogin():\n",
    "    def __init__(self) -> None:\n",
    "        self.__username : str = \"admin\"\n",
    "        self.__password : str = \"admin\"\n",
    "\n",
    "    def __dbconnectivity(self, user : str , password : str):\n",
    "        print(\"connected successfully\")\n",
    "        if user == self.__username and password == self.__password:\n",
    "            print(f\"Welcome the best : {self.__username} anbd your password is : {self.__password}\")\n",
    "            return \"Valid User\"\n",
    "        else:\n",
    "            return \"Invalid User\"\n",
    "        \n",
    "    def update_password(self, password):\n",
    "        self.__password = password\n",
    "    \n",
    "    def student_login(self,user1 : str , pass1 : str):\n",
    "        user1 = input(\"please give your username\")\n",
    "        pass1 = input(\"please give your password\")\n",
    "        user_print = self.__dbconnectivity(user1,pass1)\n",
    "        print(user_print)\n",
    "\n",
    "    def display_info(self):\n",
    "        print(f\"Welcome the best : {self.__username} anbd your password is : {self.__password}\")\n",
    "    \n",
    "muhammad : StudentLogin = StudentLogin()\n",
    "muhammad.student_login(\"\",\"\")\n",
    "muhammad.update_password(\"muhammad\")\n",
    "muhammad.display_info()\n"
   ]
  },
  {
   "cell_type": "markdown",
   "metadata": {},
   "source": [
    "#    __str__"
   ]
  },
  {
   "cell_type": "code",
   "execution_count": 2,
   "metadata": {},
   "outputs": [
    {
     "name": "stdout",
     "output_type": "stream",
     "text": [
      "teacher name is: sir zia\n"
     ]
    }
   ],
   "source": [
    "class Teacher():\n",
    "    def __init__(self, name) -> None:\n",
    "        self.name : str = name\n",
    "    def __str__(self)-> str:\n",
    "        return f\"teacher name is: {self.name}\"\n",
    "\n",
    "sir_zia : Teacher = Teacher(\"sir zia\")\n",
    "print(sir_zia)"
   ]
  },
  {
   "cell_type": "markdown",
   "metadata": {},
   "source": [
    "# Abstract Class"
   ]
  },
  {
   "cell_type": "code",
   "execution_count": 6,
   "metadata": {},
   "outputs": [
    {
     "name": "stdout",
     "output_type": "stream",
     "text": [
      "cat is eating mouse\n",
      "True\n"
     ]
    }
   ],
   "source": [
    "from abc import ABC, abstractmethod\n",
    "\n",
    "class Animal(ABC):\n",
    "    @abstractmethod\n",
    "    def __init__(self) -> None:\n",
    "        super().__init__()\n",
    "        self.living_things : bool = True\n",
    "\n",
    "class Cat(Animal):\n",
    "    def __init__(self) -> None:\n",
    "        super().__init__()\n",
    "    def eat(self, food : str):\n",
    "        return f\"cat is eating {food}\"\n",
    "\n",
    "Awais : Cat = Cat()\n",
    "print(Awais.eat(\"mouse\"))\n",
    "\n",
    "print(Awais.living_things)"
   ]
  },
  {
   "cell_type": "markdown",
   "metadata": {},
   "source": [
    "# Assignment"
   ]
  },
  {
   "cell_type": "code",
   "execution_count": 1,
   "metadata": {},
   "outputs": [
    {
     "name": "stdout",
     "output_type": "stream",
     "text": [
      "the  class name is : qasim\n",
      "the class position is : first\n",
      "the no of students in the class are : 55\n",
      "muhammad\n"
     ]
    }
   ],
   "source": [
    "from abc import ABC , abstractmethod\n",
    " \n",
    "class School(ABC):\n",
    "    def __init__(self,class_name : str , position : str) -> None:\n",
    "        super().__init__()\n",
    "        self.class_name : str = class_name\n",
    "        self.position : str = position\n",
    "\n",
    "    def class_incharge(self):\n",
    "        self.class_incharge = \"muhammad\"\n",
    "        return self.class_incharge\n",
    "    \n",
    "class Class1(School):\n",
    "    def __init__(self, class_name: str, position: str, NoOfStudents: int) -> None:\n",
    "        super().__init__(class_name, position)\n",
    "        self.studentsNo : int = NoOfStudents\n",
    "\n",
    "    def print_attributes(self):\n",
    "        print(f\"the  class name is : {self.class_name}\")\n",
    "        print(f\"the class position is : {self.position}\")\n",
    "        print(f\"the no of students in the class are : {self.studentsNo}\")\n",
    "\n",
    "\n",
    "obj1 : Class1 = Class1(\"qasim\",\"first\",55)\n",
    "obj1.print_attributes()\n",
    "print(obj1.class_incharge())\n",
    "\n",
    "\n",
    "        \n",
    "    "
   ]
  },
  {
   "cell_type": "code",
   "execution_count": 4,
   "metadata": {},
   "outputs": [
    {
     "name": "stdout",
     "output_type": "stream",
     "text": [
      "<__main__.School object at 0x00000156DD7D5F70>\n"
     ]
    }
   ],
   "source": [
    "class School():\n",
    "    def __init__(self,name) -> None:\n",
    "        self.name = name\n",
    "\n",
    "    def __str__(self) -> str:\n",
    "        return f\"the name is : {self.name}\"\n",
    "\n",
    "obj1 : School = School(\"sir zia\")\n",
    "print(obj1)"
   ]
  },
  {
   "cell_type": "code",
   "execution_count": 1,
   "metadata": {},
   "outputs": [],
   "source": [
    "class Animal():\n",
    "    def __init__(self) -> None:\n",
    "        self.name = \"muhammad\"\n",
    "\n",
    "    def reading(self, words : str ):\n",
    "        self.words = words\n",
    "        return f\"he is saying : {words}\"\n",
    "    \n",
    "class Human(Animal):\n",
    "    def __init__(self) -> None:\n",
    "        super().__init__()\n",
    "\n",
    "    def reading(self, all_words : str ):\n",
    "        self.all_words : str = all_words\n",
    "        return f\"the words spoken by him are : {self.all_words}\""
   ]
  },
  {
   "cell_type": "code",
   "execution_count": 3,
   "metadata": {},
   "outputs": [
    {
     "name": "stdout",
     "output_type": "stream",
     "text": [
      "the words spoken by him are : how are you\n"
     ]
    }
   ],
   "source": [
    "obj1 : Animal = Human()\n",
    "print(obj1.reading(\"how are you\"))"
   ]
  },
  {
   "cell_type": "code",
   "execution_count": null,
   "metadata": {},
   "outputs": [],
   "source": []
  }
 ],
 "metadata": {
  "kernelspec": {
   "display_name": "Python12==3.12",
   "language": "python",
   "name": "python3"
  },
  "language_info": {
   "codemirror_mode": {
    "name": "ipython",
    "version": 3
   },
   "file_extension": ".py",
   "mimetype": "text/x-python",
   "name": "python",
   "nbconvert_exporter": "python",
   "pygments_lexer": "ipython3",
   "version": "3.12.4"
  }
 },
 "nbformat": 4,
 "nbformat_minor": 2
}
