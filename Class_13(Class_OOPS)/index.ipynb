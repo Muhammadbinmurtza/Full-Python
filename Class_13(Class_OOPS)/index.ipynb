{
 "cells": [
  {
   "cell_type": "markdown",
   "metadata": {},
   "source": [
    "# OOPS , CLASS , METHOD , ATTRIBUTES , VARIABLES"
   ]
  },
  {
   "cell_type": "markdown",
   "metadata": {},
   "source": [
    "## OOP\n",
    "* Class\n",
    "    * method\n",
    "        * first argument must be additional variable (self,this or anything)\n",
    "    * attribute\n",
    "        * connnect with individual object\n",
    "    * class variable\n",
    "    * constructor\n",
    "        * def ```__init__(self,arg1,arg2) ```\n",
    "    * Class variable\n",
    "        * this value use for all the objects\n",
    "            ```ClassName.class_variable ```\n",
    "        * ```Class ClassName():\n",
    "                class_variable : type= vlaue\n",
    "         ````\n",
    "## Syntax of class\n",
    "```\n",
    "class ClassName():\n",
    "    pass\n",
    "```"
   ]
  },
  {
   "cell_type": "code",
   "execution_count": 28,
   "metadata": {},
   "outputs": [],
   "source": [
    "class Teacher():\n",
    "    def __init__(self,teacher_id:int,teacher_name:str) -> None:   # method with __init__ its called constructor\n",
    "        self.name : str = teacher_name  # self.attribute_name : datatype= value\n",
    "        self.teacher_id : int = teacher_id \n",
    "        self.organization : str = \"PIAIC\"\n",
    "    def speak(self,words:str)-> None:\n",
    "        print(f\"{self.name} is speaking the words {words}\")\n",
    "    \n",
    "    def teaching(self,subject:str)-> None:\n",
    "        print(f\"{self.name} is teaching the subject {subject}\")"
   ]
  },
  {
   "cell_type": "code",
   "execution_count": 29,
   "metadata": {},
   "outputs": [
    {
     "name": "stdout",
     "output_type": "stream",
     "text": [
      "muhammad\n",
      "ahmad\n"
     ]
    }
   ],
   "source": [
    "obj1 : Teacher = Teacher(1,\"muhammad\") # objecct or this is also called the instance of the techer class\n",
    "obj2 : Teacher = Teacher(2,\"ahmad\") # here this initializes the Teacher  constructor\n",
    "print(obj1.name)\n",
    "print(obj2.name)"
   ]
  },
  {
   "cell_type": "code",
   "execution_count": 30,
   "metadata": {},
   "outputs": [
    {
     "name": "stdout",
     "output_type": "stream",
     "text": [
      "muhammad is teaching the subject gen AI\n",
      "ahmad is teaching the subject AI\n"
     ]
    }
   ],
   "source": [
    "obj1.teaching(\"gen AI\")\n",
    "obj2.teaching(\"AI\")"
   ]
  },
  {
   "cell_type": "code",
   "execution_count": 31,
   "metadata": {},
   "outputs": [
    {
     "name": "stdout",
     "output_type": "stream",
     "text": [
      "muhammad is speaking the words hey how are you\n"
     ]
    }
   ],
   "source": [
    "obj1.speak(\"hey how are you\")"
   ]
  },
  {
   "cell_type": "markdown",
   "metadata": {},
   "source": [
    "## Class variable\n",
    "* Class variable\n",
    "        * this value use for all the objects\n",
    "            *```ClassName.class_variable ```\n",
    "            * `object_name.class_variable`\n",
    "        * ```Class ClassName():\n",
    "                * class_variable : type= vlaue\n",
    "         ````"
   ]
  },
  {
   "cell_type": "code",
   "execution_count": 32,
   "metadata": {},
   "outputs": [
    {
     "name": "stdout",
     "output_type": "stream",
     "text": [
      "1\n"
     ]
    }
   ],
   "source": [
    "class Teacher():\n",
    "    counter : int = 0\n",
    "    helpline_no : str = \"0391054655\"\n",
    "    def __init__(self,teacher_id:int,teacher_name:str) -> None:   # method with __init__ its called constructor\n",
    "        self.name : str = teacher_name  # self.attribute_name : datatype= value\n",
    "        self.teacher_id : int = teacher_id \n",
    "        self.organization : str = \"PIAIC\"\n",
    "        Teacher.counter += 1\n",
    "    def speak(self,words:str)-> None:\n",
    "        print(f\"{self.name} is speaking the words {words}\")\n",
    "    \n",
    "    def teaching(self,subject:str)-> None:\n",
    "        print(f\"{self.name} is teaching the subject {subject}\")\n",
    "\n",
    "    def info(self)-> None:\n",
    "        details : str = f\"\"\"\n",
    "teacher name is {self.name}\n",
    "teacher id is {self.teacher_id}\n",
    "Our help line number is {Teacher.helpline_no}\n",
    "\"\"\"\n",
    "        print(details)\n",
    "\n",
    "obj1 : Teacher = Teacher(1,\"muhammad\") # objecct or this is also called the instance of the techer class\n",
    "print(Teacher.counter)\n",
    "obj2 : Teacher = Teacher(2,\"ahmad\")\n"
   ]
  },
  {
   "cell_type": "code",
   "execution_count": 33,
   "metadata": {},
   "outputs": [
    {
     "name": "stdout",
     "output_type": "stream",
     "text": [
      "\n",
      "teacher name is muhammad\n",
      "teacher id is 1\n",
      "Our help line number is 0391054655\n",
      "\n",
      "\n",
      "teacher name is ahmad\n",
      "teacher id is 2\n",
      "Our help line number is 0391054655\n",
      "\n"
     ]
    }
   ],
   "source": [
    "obj1.info()\n",
    "obj2.info()"
   ]
  },
  {
   "cell_type": "code",
   "execution_count": 34,
   "metadata": {},
   "outputs": [
    {
     "name": "stdout",
     "output_type": "stream",
     "text": [
      "2\n",
      "2\n",
      "2\n",
      "0391054655\n",
      "0391054655\n",
      "0391054655\n"
     ]
    }
   ],
   "source": [
    "# class variable calling\n",
    "print(obj1.counter) # calling through object name\n",
    "print(obj2.counter) # calling through object name\n",
    "print(Teacher.counter) # calling through class name\n",
    "\n",
    "print(obj1.helpline_no) #  calling through object name\n",
    "print(obj2.helpline_no) #  calling through object name\n",
    "print(Teacher.helpline_no) # calling through class name"
   ]
  },
  {
   "cell_type": "markdown",
   "metadata": {},
   "source": [
    "## Assignment"
   ]
  },
  {
   "cell_type": "code",
   "execution_count": 38,
   "metadata": {},
   "outputs": [
    {
     "name": "stdout",
     "output_type": "stream",
     "text": [
      "pen\n",
      "an\n",
      "the resturant is : an and cuisine is : pen\n",
      "the resturant is open\n"
     ]
    }
   ],
   "source": [
    "class Resturant():\n",
    "    def __init__(self,resturant_name:str , cuisine_type:str):\n",
    "        self.resturant_name : str = resturant_name\n",
    "        self.cuisine_type : str = cuisine_type\n",
    "    \n",
    "    def describe_resturant(self):\n",
    "        print(f\"the resturant is : {self.resturant_name} and cuisine is : {self.cuisine_type}\")\n",
    "\n",
    "    def open_resturant(self):\n",
    "        print(\"the resturant is open\")\n",
    "\n",
    "resturant : Resturant = Resturant(\"an\",\"pen\")\n",
    "print(resturant.cuisine_type)\n",
    "print(resturant.resturant_name)\n",
    "resturant.describe_resturant()\n",
    "resturant.open_resturant()"
   ]
  },
  {
   "cell_type": "code",
   "execution_count": 41,
   "metadata": {},
   "outputs": [
    {
     "name": "stdout",
     "output_type": "stream",
     "text": [
      "pen\n",
      "an\n",
      "the resturant is : an and cuisine is : pen\n",
      "the resturant is : eds and cuisine is : gy\n",
      "the resturant is : bull and cuisine is : qabool\n",
      "the resturant is open\n"
     ]
    }
   ],
   "source": [
    "class Resturant():\n",
    "    def __init__(self,resturant_name:str , cuisine_type:str):\n",
    "        self.resturant_name : str = resturant_name\n",
    "        self.cuisine_type : str = cuisine_type\n",
    "    \n",
    "    def describe_resturant(self):\n",
    "        print(f\"the resturant is : {self.resturant_name} and cuisine is : {self.cuisine_type}\")\n",
    "\n",
    "    def open_resturant(self):\n",
    "        print(\"the resturant is open\")\n",
    "\n",
    "resturant : Resturant = Resturant(\"an\",\"pen\")\n",
    "resturant2 : Resturant = Resturant(\"eds\",\"gy\")\n",
    "resturant3 : Resturant = Resturant(\"bull\",\"qabool\")\n",
    "print(resturant.cuisine_type)\n",
    "print(resturant.resturant_name)\n",
    "resturant.describe_resturant()    \n",
    "resturant2.describe_resturant()\n",
    "resturant3.describe_resturant()\n",
    "resturant.open_resturant()"
   ]
  },
  {
   "cell_type": "code",
   "execution_count": 42,
   "metadata": {},
   "outputs": [
    {
     "name": "stdout",
     "output_type": "stream",
     "text": [
      "user name : a b\n",
      "Eduaction is: inter\n",
      "the address is : fsd\n",
      "the age of user is: 18\n",
      "hello a b , Welcome to the party\n",
      "user name : ali ahmad\n",
      "Eduaction is: graduation\n",
      "the address is : Isc\n",
      "the age of user is: 22\n",
      "hello ali ahmad , Welcome to the party\n",
      "user name : pad pera\n",
      "Eduaction is: inter\n",
      "the address is : fsd\n",
      "the age of user is: 18\n",
      "hello pad pera , Welcome to the party\n"
     ]
    }
   ],
   "source": [
    "class User():\n",
    "    def __init__(self,first_name:str, last_name : str, edu : str, age : int, address : str):\n",
    "        self.f_name : str = first_name\n",
    "        self.l_name : str = last_name\n",
    "        self.edu : str = edu\n",
    "        self.age : int = age\n",
    "        self.address : str = address\n",
    "    def describe_users(self):\n",
    "        print(f\"user name : {self.f_name} {self.l_name}\")\n",
    "        print(f\"Eduaction is: {self.edu}\")\n",
    "        print(f\"the address is : {self.address}\")\n",
    "        print(f\"the age of user is: {self.age}\")\n",
    "\n",
    "    def greet_user(self):\n",
    "        print(f\"hello {self.f_name} {self.l_name} , Welcome to the party\")\n",
    "\n",
    "user1 : User = User('a','b','inter',18,'fsd')\n",
    "user2 : User = User('ali','ahmad','graduation', 22,'Isc')\n",
    "user3 : User = User('pad','pera','inter',18,'fsd')\n",
    "user1.describe_users()\n",
    "user1.greet_user()\n",
    "user2.describe_users()\n",
    "user2.greet_user()\n",
    "user3.describe_users()\n",
    "user3.greet_user()"
   ]
  },
  {
   "cell_type": "code",
   "execution_count": 11,
   "metadata": {},
   "outputs": [
    {
     "name": "stdout",
     "output_type": "stream",
     "text": [
      "pen\n",
      "an\n",
      "the resturant is : an and cuisine is : pen\n",
      "the resturant is open\n",
      "the number of people served are : 20\n"
     ]
    }
   ],
   "source": [
    "class Resturant():\n",
    "    def __init__(self,resturant_name:str , cuisine_type:str):\n",
    "        self.resturant_name : str = resturant_name\n",
    "        self.cuisine_type : str = cuisine_type\n",
    "        self.number_served = 0\n",
    "    \n",
    "    def describe_resturant(self):\n",
    "        print(f\"the resturant is : {self.resturant_name} and cuisine is : {self.cuisine_type}\")\n",
    "    \n",
    "    def people_served(self,served_people:int):\n",
    "        self.number_served = served_people\n",
    "        \n",
    "    def increment_number_served(self,served):\n",
    "        self.number_served += served\n",
    "\n",
    "\n",
    "    def open_resturant(self):\n",
    "        print(\"the resturant is open\")\n",
    "\n",
    "resturant : Resturant = Resturant(\"an\",\"pen\")\n",
    "print(resturant.cuisine_type)\n",
    "print(resturant.resturant_name)\n",
    "resturant.describe_resturant()\n",
    "resturant.open_resturant()\n",
    "resturant.people_served(10)\n",
    "resturant.increment_number_served(10)\n",
    "print(f\"the number of people served are : {resturant.number_served}\")\n"
   ]
  },
  {
   "cell_type": "code",
   "execution_count": 13,
   "metadata": {},
   "outputs": [
    {
     "name": "stdout",
     "output_type": "stream",
     "text": [
      "user name : muhammad mian\n",
      "Eduaction is: inter\n",
      "the address is : fsd\n",
      "the age of user is: 18\n",
      "the number of login attempts are : 20\n",
      "20\n",
      "0\n"
     ]
    }
   ],
   "source": [
    "class User():\n",
    "    def __init__(self,first_name:str, last_name : str, edu : str, age : int, address : str, login_attempts:int):\n",
    "        self.f_name : str = first_name\n",
    "        self.l_name : str = last_name\n",
    "        self.edu : str = edu\n",
    "        self.age : int = age\n",
    "        self.address : str = address\n",
    "        self.login_attempts : int = login_attempts\n",
    "    def describe_users(self):\n",
    "        print(f\"user name : {self.f_name} {self.l_name}\")\n",
    "        print(f\"Eduaction is: {self.edu}\")\n",
    "        print(f\"the address is : {self.address}\")\n",
    "        print(f\"the age of user is: {self.age}\")\n",
    "        print(f\"the number of login attempts are : {self.login_attempts}\")\n",
    "    def increment_login_attempts(self):\n",
    "        self.login_attempts += 1\n",
    "\n",
    "    def reset_login_attempts(self):\n",
    "        self.login_attempts = 0\n",
    "    def greet_user(self):\n",
    "        print(f\"hello {self.f_name} {self.l_name} , Welcome to the party\")\n",
    "\n",
    "user1 : User = User('muhammad','mian','inter',18,'fsd',19)\n",
    "user1.increment_login_attempts()\n",
    "user1.describe_users()\n",
    "print(user1.login_attempts)\n",
    "user1.reset_login_attempts()\n",
    "print(user1.login_attempts)"
   ]
  },
  {
   "cell_type": "code",
   "execution_count": 18,
   "metadata": {},
   "outputs": [
    {
     "name": "stdout",
     "output_type": "stream",
     "text": [
      "['vanila', 'tooty frooty', 'lovely', 'kulfa', 'oreo macfulrry']\n"
     ]
    }
   ],
   "source": [
    "class Resturant():\n",
    "    def __init__(self,resturant_name:str , cuisine_type:str):\n",
    "        self.resturant_name : str = resturant_name\n",
    "        self.cuisine_type : str = cuisine_type\n",
    "    \n",
    "    def describe_resturant(self):\n",
    "        print(f\"the resturant is : {self.resturant_name} and cuisine is : {self.cuisine_type}\")\n",
    "\n",
    "    def open_resturant(self):\n",
    "        print(\"the resturant is open\")\n",
    "\n",
    "\n",
    "class IceCreamStand(Resturant):\n",
    "    def __init__(self, resturant_name: str, cuisine_type: str, icecream_flavors: list[str]):\n",
    "        super().__init__(resturant_name, cuisine_type)\n",
    "        self.icecream_flavors : list[str] = icecream_flavors\n",
    "    def icecreams(self):\n",
    "        print(self.icecream_flavors)\n",
    "IceCream1 : IceCreamStand = IceCreamStand('ali','ar',['vanila','tooty frooty','lovely','kulfa','oreo macfulrry'])\n",
    "IceCream1.icecreams()"
   ]
  },
  {
   "cell_type": "code",
   "execution_count": 19,
   "metadata": {},
   "outputs": [
    {
     "name": "stdout",
     "output_type": "stream",
     "text": [
      "['you can add value', 'you can delete the value', 'you can fuck her']\n"
     ]
    }
   ],
   "source": [
    "class User():\n",
    "    def __init__(self,first_name:str, last_name : str, edu : str, age : int, address : str):\n",
    "        self.f_name : str = first_name\n",
    "        self.l_name : str = last_name\n",
    "        self.edu : str = edu\n",
    "        self.age : int = age\n",
    "        self.address : str = address\n",
    "    def describe_users(self):\n",
    "        print(f\"user name : {self.f_name} {self.l_name}\")\n",
    "        print(f\"Eduaction is: {self.edu}\")\n",
    "        print(f\"the address is : {self.address}\")\n",
    "        print(f\"the age of user is: {self.age}\")\n",
    "\n",
    "    def greet_user(self):\n",
    "        print(f\"hello {self.f_name} {self.l_name} , Welcome to the party\")\n",
    "\n",
    "class Admin(User):\n",
    "    def __init__(self, first_name: str, last_name: str, edu: str, age: int, address: str,priviliges:list[str]):\n",
    "        super().__init__(first_name, last_name, edu, age, address)\n",
    "        self.privileges : list[str] = priviliges\n",
    "\n",
    "    def show_privileges(self):\n",
    "        print(self.privileges)\n",
    "\n",
    "user1 : Admin = Admin('m','b','inter',18,'fsd',['you can add value','you can delete the value','you can fuck her'])\n",
    "user1.show_privileges()"
   ]
  },
  {
   "cell_type": "code",
   "execution_count": 4,
   "metadata": {},
   "outputs": [
    {
     "name": "stdout",
     "output_type": "stream",
     "text": [
      "- You can add value\n",
      "- You can delete value\n",
      "- You can modify data\n"
     ]
    }
   ],
   "source": [
    "class User():\n",
    "    def __init__(self,first_name:str, last_name : str, edu : str, age : int, address : str):\n",
    "        self.f_name : str = first_name\n",
    "        self.l_name : str = last_name\n",
    "        self.edu : str = edu\n",
    "        self.age : int = age\n",
    "        self.address : str = address\n",
    "    def describe_users(self):\n",
    "        print(f\"user name : {self.f_name} {self.l_name}\")\n",
    "        print(f\"Eduaction is: {self.edu}\")\n",
    "        print(f\"the address is : {self.address}\")\n",
    "        print(f\"the age of user is: {self.age}\")\n",
    "\n",
    "    def greet_user(self):\n",
    "        print(f\"hello {self.f_name} {self.l_name} , Welcome to the party\")\n",
    "\n",
    "    \n",
    "class Privilege():\n",
    "    def __init__(self, priviliges : list[int]) -> None:\n",
    "        self.privileges = priviliges\n",
    "    \n",
    "    def show_privileges(self):\n",
    "        for privilege in self.privileges:\n",
    "            print(f\"- {privilege}\")\n",
    "\n",
    "class Admin(User):\n",
    "    def __init__(self, first_name: str, last_name: str, edu: str, age: int, address: str,priviliges: list[str]):\n",
    "        super().__init__(first_name, last_name, edu, age, address)\n",
    "        self.privileges = Privilege(priviliges)\n",
    "    \n",
    "    def show_privilege(self):\n",
    "        self.privileges.show_privileges()\n",
    "\n",
    "user1 : Admin = Admin('M', 'B', 'Inter', 18, 'FSD', ['You can add value', 'You can delete value', 'You can modify data'])\n",
    "user1.show_privilege()"
   ]
  },
  {
   "cell_type": "code",
   "execution_count": 1,
   "metadata": {},
   "outputs": [
    {
     "name": "stdout",
     "output_type": "stream",
     "text": [
      "- You can add value\n",
      "- You can delete value\n",
      "- You can modify data\n"
     ]
    }
   ],
   "source": [
    "class User:\n",
    "    def __init__(self, first_name: str, last_name: str, edu: str, age: int, address: str):\n",
    "        self.f_name: str = first_name\n",
    "        self.l_name: str = last_name\n",
    "        self.edu: str = edu\n",
    "        self.age: int = age\n",
    "        self.address: str = address\n",
    "\n",
    "    def describe_user(self):\n",
    "        print(f\"User name: {self.f_name} {self.l_name}\")\n",
    "        print(f\"Education: {self.edu}\")\n",
    "        print(f\"Address: {self.address}\")\n",
    "        print(f\"Age: {self.age}\")\n",
    "\n",
    "    def greet_user(self):\n",
    "        print(f\"Hello {self.f_name} {self.l_name}, Welcome to the party!\")\n",
    "\n",
    "class Privileges:\n",
    "    def __init__(self, privileges: list[str]):\n",
    "        self.privileges = privileges\n",
    "\n",
    "    def show_privileges(self):\n",
    "        for privilege in self.privileges:\n",
    "            print(f\"- {privilege}\")\n",
    "\n",
    "class Admin(User):\n",
    "    def __init__(self, first_name: str, last_name: str, edu: str, age: int, address: str, privileges: list[str]):\n",
    "        super().__init__(first_name, last_name, edu, age, address)\n",
    "        self.privileges = Privileges(privileges)\n",
    "\n",
    "    def show_privileges(self):\n",
    "        self.privileges.show_privileges()\n",
    "\n",
    "# Creating an instance of Admin and showing its privileges\n",
    "user1 = Admin('M', 'B', 'Inter', 18, 'FSD', ['You can add value', 'You can delete value', 'You can modify data'])\n",
    "user1.show_privileges()\n"
   ]
  },
  {
   "cell_type": "markdown",
   "metadata": {},
   "source": [
    "## Pillars of OOP\n",
    "* Inheritance\n",
    "* Encapsulation\n",
    "* Abstraction\n",
    "* Polymorphism"
   ]
  },
  {
   "cell_type": "markdown",
   "metadata": {},
   "source": [
    "## Inheritance\n",
    "\n",
    "```\n",
    "class Childclass(ParentClass)\n",
    "pass\n",
    "```"
   ]
  },
  {
   "cell_type": "code",
   "execution_count": 27,
   "metadata": {},
   "outputs": [
    {
     "name": "stdout",
     "output_type": "stream",
     "text": [
      "Brown\n",
      "black\n",
      "parent method speak: pakistan\n",
      "you are looking TV\n",
      "============ CHILD ============\n",
      "parent method speak: hello\n",
      "Brown\n",
      "you are looking Cinema\n",
      "the subject we stud : english\n"
     ]
    }
   ],
   "source": [
    "class Parents():\n",
    "    def __init__(self)-> None:\n",
    "        self.eye_color:str = \"Brown\"\n",
    "        self.hair_color : str = \"black\"\n",
    "    \n",
    "    def speak(self,words:str)-> None:\n",
    "        print(f\"parent method speak: {words}\")\n",
    "    \n",
    "    def watching(self,object_name : str)-> None:\n",
    "        print(f\"you are looking {object_name}\")\n",
    "\n",
    "class Child(Parents):\n",
    "    def teaching(self,subject:str = None)-> None:\n",
    "        print(f\"the subject we study : {subject}\")\n",
    "\n",
    "obj1 : Parents = Parents()\n",
    "print(obj1.eye_color)\n",
    "print(obj1.hair_color)\n",
    "obj1.speak(\"pakistan\")\n",
    "obj1.watching(\"TV\")\n",
    "\n",
    "print(\"============ CHILD ============\")\n",
    "\n",
    "# Child object\n",
    "\n",
    "obj2 : Child = Child()\n",
    "obj2.speak(\"hello\")\n",
    "print(obj2.eye_color)\n",
    "obj2.watching(\"Cinema\")\n",
    "obj2.teaching(\"english\")"
   ]
  }
 ],
 "metadata": {
  "kernelspec": {
   "display_name": "Python13",
   "language": "python",
   "name": "python3"
  },
  "language_info": {
   "codemirror_mode": {
    "name": "ipython",
    "version": 3
   },
   "file_extension": ".py",
   "mimetype": "text/x-python",
   "name": "python",
   "nbconvert_exporter": "python",
   "pygments_lexer": "ipython3",
   "version": "3.12.4"
  }
 },
 "nbformat": 4,
 "nbformat_minor": 2
}
