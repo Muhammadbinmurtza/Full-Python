{
 "cells": [
  {
   "cell_type": "markdown",
   "metadata": {},
   "source": [
    "# Dictionary\n",
    "* key :value (items)\n",
    "    * key is  replacement of indexes\n",
    "    * value item\n",
    "* dict_variable[key]\n",
    "    * dict_variable[new_key] =  new_value\n",
    "        * add  new value\n",
    "        * update value"
   ]
  },
  {
   "cell_type": "markdown",
   "metadata": {},
   "source": [
    "#  SET"
   ]
  },
  {
   "cell_type": "code",
   "execution_count": 6,
   "metadata": {},
   "outputs": [
    {
     "name": "stdout",
     "output_type": "stream",
     "text": [
      "{1, 2, 3, 67, 4, 43, 13, 23, 56}\n"
     ]
    }
   ],
   "source": [
    "data  : set = {1,1,4,56,23,67,43,13,1,2,2,3,4,4}\n",
    "# set converts the data into order and removes duplicates\n",
    "print(data)"
   ]
  },
  {
   "cell_type": "code",
   "execution_count": 1,
   "metadata": {},
   "outputs": [
    {
     "data": {
      "text/plain": [
       "{'fname': 'murtza', 'name': 'muhammad', 'education': 'BSSE'}"
      ]
     },
     "metadata": {},
     "output_type": "display_data"
    }
   ],
   "source": [
    "from typing import Dict,Union\n",
    "#list\n",
    "data : dict[str,str] = {\"fname\": \"murtza\",\n",
    "                        \"name\": \"muhammad\",\n",
    "                        \"education\": \"BSSE\"\n",
    "                        }\n",
    "display(data)"
   ]
  },
  {
   "cell_type": "code",
   "execution_count": 4,
   "metadata": {},
   "outputs": [
    {
     "data": {
      "text/plain": [
       "'muhammad'"
      ]
     },
     "metadata": {},
     "output_type": "display_data"
    },
    {
     "data": {
      "text/plain": [
       "'BSSE'"
      ]
     },
     "metadata": {},
     "output_type": "display_data"
    },
    {
     "data": {
      "text/plain": [
       "'pakistan'"
      ]
     },
     "metadata": {},
     "output_type": "display_data"
    }
   ],
   "source": [
    "from typing import Dict,Union\n",
    "key = Union[int,str] # custom type created\n",
    "Value = Union[int,str,list,dict,tuple,set]\n",
    "#list\n",
    "data : dict[str,str] = {\"fname\": \"murtza\",\n",
    "                        \"name\": \"muhammad\",\n",
    "                        \"education\": \"BSSE\",\n",
    "                        100: \"pakistan\",\n",
    "                        # [1,2,3] : \"ali\"   erors\n",
    "                        # {1,2,3} : \"ali1\"    error\n",
    "                        \"xyz\": (1,2,3),\n",
    "                        'abc':  {11,2,3} \n",
    "                        }\n",
    "display(data['name']) # like in list we use index but here we will use the key\n",
    "display(data['education'])\n",
    "display(data[100])"
   ]
  },
  {
   "cell_type": "code",
   "execution_count": 8,
   "metadata": {},
   "outputs": [
    {
     "name": "stdout",
     "output_type": "stream",
     "text": [
      "{1, 2, 3}\n",
      "[1, 2, 3]\n"
     ]
    }
   ],
   "source": [
    "abc :  set = {1,2,3}\n",
    "print(abc)\n",
    "xyz : list[int] = list(abc)\n",
    "print(xyz)"
   ]
  },
  {
   "cell_type": "code",
   "execution_count": 11,
   "metadata": {},
   "outputs": [
    {
     "data": {
      "text/plain": [
       "{'name': 'muhammad', 'edu': 'BSSE', 'fname': 'murtza'}"
      ]
     },
     "execution_count": 11,
     "metadata": {},
     "output_type": "execute_result"
    }
   ],
   "source": [
    "from typing import Dict,Union\n",
    "key = Union[int,str] # custom type created\n",
    "Value = Union[int,str,list,dict,tuple,set]\n",
    "data : dict[key,Value] = {}\n",
    "data['name']  = \"muhammad\"\n",
    "data['edu'] = \"BSSE\"\n",
    "data[\"fname\"] = \"murtza\"\n",
    "data"
   ]
  },
  {
   "cell_type": "code",
   "execution_count": 14,
   "metadata": {},
   "outputs": [
    {
     "name": "stdout",
     "output_type": "stream",
     "text": [
      "na\n",
      "muhammad\n"
     ]
    }
   ],
   "source": [
    "from typing import Dict,Union\n",
    "key = Union[int,str] # custom type created\n",
    "Value = Union[int,str,list,dict,tuple,set]\n",
    "#list\n",
    "data : dict[str,str] = {\"fname\": \"murtza\",\n",
    "                        \"name\": \"muhammad\",\n",
    "                        \"education\": \"BSSE\"\n",
    "                        }\n",
    "print(data.get('pakistan','na'))\n",
    "print(data.get('name','na'))"
   ]
  },
  {
   "cell_type": "code",
   "execution_count": 17,
   "metadata": {},
   "outputs": [
    {
     "name": "stdout",
     "output_type": "stream",
     "text": [
      "dict_keys(['fname', 'name', 'education'])\n",
      "dict_values(['murtza', 'muhammad', 'BSSE'])\n",
      "dict_items([('fname', 'murtza'), ('name', 'muhammad'), ('education', 'BSSE')])\n",
      "murtza\n",
      "muhammad\n",
      "BSSE\n"
     ]
    }
   ],
   "source": [
    "from typing import Dict,Union\n",
    "key = Union[int,str] # custom type created\n",
    "Value = Union[int,str,list,dict,tuple,set]\n",
    "#list\n",
    "data : dict[str,str] = {\"fname\": \"murtza\",\n",
    "                        \"name\": \"muhammad\",\n",
    "                        \"education\": \"BSSE\"\n",
    "                        }\n",
    "print(data.keys())\n",
    "print(data.values())\n",
    "print(data.items())\n",
    "for v in data.values():\n",
    "    print(v)"
   ]
  },
  {
   "cell_type": "code",
   "execution_count": 12,
   "metadata": {},
   "outputs": [
    {
     "name": "stdout",
     "output_type": "stream",
     "text": [
      "dict_keys(['fname', 'name', 'education'])\n"
     ]
    }
   ],
   "source": [
    "from typing import Dict,Union\n",
    "key = Union[int,str] # custom type created\n",
    "Value = Union[int,str,list,dict,tuple,set]\n",
    "#list\n",
    "data : dict[str,str] = {\"fname\": \"murtza\",\n",
    "                        \"name\": \"muhammad\",\n",
    "                        \"education\": \"BSSE\"\n",
    "                        }\n",
    "# for key,value in data.items():\n",
    "#     print(f\"{key}:{value}\")\n",
    "# print(data.get('ali','qurban'))\n",
    "print(data.keys())"
   ]
  },
  {
   "cell_type": "code",
   "execution_count": 13,
   "metadata": {},
   "outputs": [
    {
     "name": "stdout",
     "output_type": "stream",
     "text": [
      "Edward, thank you for taking the poll.\n",
      "Jen, thank you for taking the poll.\n",
      "Phil, thank you for taking the poll.\n",
      "Sarah, thank you for taking the poll.\n"
     ]
    }
   ],
   "source": [
    "favorite_languages = {\n",
    " 'jen': 'python',\n",
    " 'sarah': 'c',\n",
    " 'edward': 'ruby',\n",
    " 'phil': 'python',\n",
    " }\n",
    "for name in sorted(favorite_languages.keys()):\n",
    " print(f\"{name.title()}, thank you for taking the poll.\")"
   ]
  },
  {
   "cell_type": "code",
   "execution_count": 18,
   "metadata": {},
   "outputs": [
    {
     "name": "stdout",
     "output_type": "stream",
     "text": [
      "sindh passes through pakistan\n",
      "jehlum passes through pakistan\n",
      "chanab passes through pakistan\n",
      "neelum passes through pakistan\n",
      "nile passes through egypt\n",
      "sindh\n",
      "jehlum\n",
      "chanab\n",
      "neelum\n",
      "nile\n",
      "\n",
      "sindh\n",
      "\n",
      "jehlum\n",
      "\n",
      "chanab\n",
      "\n",
      "neelum\n",
      "\n",
      "nile\n"
     ]
    }
   ],
   "source": [
    "rivers: dict[str] = {'sindh':'pakistan',\n",
    "                     'jehlum':'pakistan',\\\n",
    "                     'chanab': 'pakistan',\n",
    "                     'neelum':'pakistan',\n",
    "                     'nile': 'egypt'\n",
    "                     }\n",
    "for key,value in rivers.items():\n",
    "    print(f\"{key} passes through {value}\")\n",
    "for keys in rivers:\n",
    "    print(keys)\n",
    "for values in  rivers:\n",
    "    print(f\"\\n{values}\")"
   ]
  }
 ],
 "metadata": {
  "kernelspec": {
   "display_name": "Python12==3.12",
   "language": "python",
   "name": "python3"
  },
  "language_info": {
   "codemirror_mode": {
    "name": "ipython",
    "version": 3
   },
   "file_extension": ".py",
   "mimetype": "text/x-python",
   "name": "python",
   "nbconvert_exporter": "python",
   "pygments_lexer": "ipython3",
   "version": "3.12.4"
  }
 },
 "nbformat": 4,
 "nbformat_minor": 2
}
