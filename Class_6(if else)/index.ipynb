{
 "cells": [
  {
   "cell_type": "markdown",
   "metadata": {},
   "source": [
    "#  IF ELSE,  ELIF "
   ]
  },
  {
   "cell_type": "markdown",
   "metadata": {},
   "source": [
    "* if logic:\n",
    "    *true_block\n",
    "   *else:\n",
    "     *false_block"
   ]
  },
  {
   "cell_type": "markdown",
   "metadata": {},
   "source": [
    "# comprehensive style\n",
    "* true_block  if  logic  else  False_block"
   ]
  },
  {
   "cell_type": "code",
   "execution_count": 2,
   "metadata": {},
   "outputs": [
    {
     "name": "stdout",
     "output_type": "stream",
     "text": [
      "hello world\n"
     ]
    }
   ],
   "source": [
    "if  False:\n",
    "    print(\"pakistan\")\n",
    "else:\n",
    "    print(\"hello world\")"
   ]
  },
  {
   "cell_type": "code",
   "execution_count": 3,
   "metadata": {},
   "outputs": [
    {
     "name": "stdout",
     "output_type": "stream",
     "text": [
      "hello\n"
     ]
    }
   ],
   "source": [
    "print(\"pakistan\") if False else print(\"hello\")"
   ]
  },
  {
   "cell_type": "code",
   "execution_count": 6,
   "metadata": {},
   "outputs": [
    {
     "name": "stdout",
     "output_type": "stream",
     "text": [
      "Wao\n"
     ]
    }
   ],
   "source": [
    "num : str = \"ali\"\n",
    "# true block       logic          False_block\n",
    "print(\"Wao\") if num==\"ali\" else print(\"fuck\")\n"
   ]
  },
  {
   "cell_type": "code",
   "execution_count": 8,
   "metadata": {},
   "outputs": [
    {
     "name": "stdout",
     "output_type": "stream",
     "text": [
      "wao\n"
     ]
    }
   ],
   "source": [
    "ali : str = \"aljj\"\n",
    "if type(ali)==str:\n",
    "    print(\"wao\")"
   ]
  },
  {
   "cell_type": "code",
   "execution_count": 12,
   "metadata": {},
   "outputs": [
    {
     "name": "stdout",
     "output_type": "stream",
     "text": [
      "dear student your percentage is  88, and your grade is: \t A+\n"
     ]
    }
   ],
   "source": [
    "from typing import Union\n",
    "percentage :  Union[int,float] = 88\n",
    "grade : Union[str,None] = None\n",
    "\n",
    "if percentage >= 80:\n",
    "    grade = \"A+\"\n",
    "elif percentage >= 60:\n",
    "    grade = \"A\"\n",
    "elif percentage >= 40:\n",
    "    grade = \"C\"\n",
    "elif percentage >=30:\n",
    "    grade = \"D\"\n",
    "else:\n",
    "    grade = \"E\"\n",
    "print(f\"dear student your percentage is  {percentage}, and your grade is: \\t {grade}\")\n",
    "\n",
    " \n"
   ]
  },
  {
   "cell_type": "code",
   "execution_count": 13,
   "metadata": {},
   "outputs": [
    {
     "name": "stdout",
     "output_type": "stream",
     "text": [
      "dear student your percentage is  54, and your grade is: \t C\n"
     ]
    }
   ],
   "source": [
    "from typing import Union\n",
    "percentage :  Union[int,float] = int(input(\"enter the percentage\"))\n",
    "grade : Union[str,None] = None\n",
    "#   grade  : str | float =  None   * alternate of union\n",
    "\n",
    "if percentage >= 80:\n",
    "    grade = \"A+\"\n",
    "elif percentage >= 60:\n",
    "    grade = \"A\"\n",
    "elif percentage >= 40:\n",
    "    grade = \"C\"\n",
    "elif percentage >=30:\n",
    "    grade = \"D\"\n",
    "else:\n",
    "    grade = \"E\"\n",
    "print(f\"dear student your percentage is  {percentage}, and your grade is: \\t {grade}\")\n",
    "\n",
    " \n"
   ]
  },
  {
   "cell_type": "code",
   "execution_count": 17,
   "metadata": {},
   "outputs": [
    {
     "name": "stdout",
     "output_type": "stream",
     "text": [
      "A+\n"
     ]
    }
   ],
   "source": [
    "from typing import Union\n",
    "percentage :  Union[int,float] = float(input(\"enter the percentage\"))\n",
    "grade : Union[str,None] = None\n",
    "#   grade  : str | float =  None   * alternate of union\n",
    "\n",
    "if (percentage >= 0)  and (percentage<33):\n",
    "    grade = \"fail\"\n",
    "elif (percentage >= 33) and ( percentage<45):\n",
    "    grade = \"c\"\n",
    "elif (percentage >= 45) and (percentage<70):\n",
    "    grade = \"B\"\n",
    "elif percentage >=70 and (percentage<90):\n",
    "    grade = \"D\"\n",
    "else:\n",
    "    grade = \"A+\"\n",
    "print(grade)"
   ]
  },
  {
   "cell_type": "code",
   "execution_count": 22,
   "metadata": {},
   "outputs": [
    {
     "name": "stdout",
     "output_type": "stream",
     "text": [
      "[88, 56.9, 65, 55, 23, 34, 47]\n",
      "['D', 'B', 'B', 'B', 'fail', 'c', 'B']\n"
     ]
    },
    {
     "data": {
      "text/plain": [
       "[(88, 'D'),\n",
       " (56.9, 'B'),\n",
       " (65, 'B'),\n",
       " (55, 'B'),\n",
       " (23, 'fail'),\n",
       " (34, 'c'),\n",
       " (47, 'B')]"
      ]
     },
     "execution_count": 22,
     "metadata": {},
     "output_type": "execute_result"
    }
   ],
   "source": [
    "from typing import Union\n",
    "from typing import  Optional\n",
    "pertype = Union[float,int]\n",
    "percentage : list[pertype] = [88,56.9,65,55,23,34,47]\n",
    "grades : list[str] = []\n",
    "for stu_per in percentage:\n",
    "    grade : str = \"\"\n",
    "    if stu_per >= 0  and stu_per<33:\n",
    "        grade = \"fail\"\n",
    "    elif stu_per >= 33 and stu_per<45:\n",
    "        grade = \"c\"\n",
    "    elif stu_per >= 45 and stu_per<70:\n",
    "        grade = \"B\"\n",
    "    elif stu_per >=70 and stu_per<90:\n",
    "        grade = \"D\"\n",
    "    else:\n",
    "        grade = \"A+\"\n",
    "    grades.append(grade)\n",
    "print(percentage)\n",
    "print(grades)\n",
    "\n",
    "zip(percentage,grades)\n",
    "list(zip(percentage,grades))\n",
    "\n"
   ]
  },
  {
   "cell_type": "markdown",
   "metadata": {},
   "source": [
    "# ZIP\n",
    "* zip  is used to combine all the same length answer or variable"
   ]
  },
  {
   "cell_type": "code",
   "execution_count": 23,
   "metadata": {},
   "outputs": [
    {
     "name": "stdout",
     "output_type": "stream",
     "text": [
      "[88, 56.9, 65, 55, 23, 34, 47]\n",
      "['D', 'B', 'B', 'B', 'fail', 'c', 'B']\n"
     ]
    },
    {
     "data": {
      "text/plain": [
       "[(88, 'D'),\n",
       " (56.9, 'B'),\n",
       " (65, 'B'),\n",
       " (55, 'B'),\n",
       " (23, 'fail'),\n",
       " (34, 'c'),\n",
       " (47, 'B')]"
      ]
     },
     "execution_count": 23,
     "metadata": {},
     "output_type": "execute_result"
    }
   ],
   "source": [
    "from typing import Union\n",
    "from typing import  Optional\n",
    "pertype = Union[float,int]\n",
    "percentage : list[pertype] = [88,56.9,65,55,23,34,47]\n",
    "grades : list[str] = []\n",
    "for stu_per in percentage:\n",
    "    grade : str = \"\"\n",
    "    if stu_per >= 0  and stu_per<33:\n",
    "        grade = \"fail\"\n",
    "    elif stu_per >= 33 and stu_per<45:\n",
    "        grade = \"c\"\n",
    "    elif stu_per >= 45 and stu_per<70:\n",
    "        grade = \"B\"\n",
    "    elif stu_per >=70 and stu_per<90:\n",
    "        grade = \"D\"\n",
    "    else:\n",
    "        grade = \"A+\"\n",
    "    grades.append(grade)\n",
    "print(percentage)\n",
    "print(grades)\n",
    "\n",
    "zip(percentage,grades)\n",
    "list(zip(percentage,grades))"
   ]
  },
  {
   "cell_type": "code",
   "execution_count": 32,
   "metadata": {},
   "outputs": [
    {
     "data": {
      "text/plain": [
       "['Audi', 'BMW', 'Toyota']"
      ]
     },
     "execution_count": 32,
     "metadata": {},
     "output_type": "execute_result"
    }
   ],
   "source": [
    "cars  : list[str] = [\"audi\",\"bmw\",\"toyota\"]\n",
    "[ i.upper()  if i==\"bmw\" else i.title() for i in cars ]"
   ]
  },
  {
   "cell_type": "code",
   "execution_count": 37,
   "metadata": {},
   "outputs": [
    {
     "name": "stdout",
     "output_type": "stream",
     "text": [
      "<built-in method upper of str object at 0x000002967D714F30>\n"
     ]
    }
   ],
   "source": [
    "cars  : list[str] = [\"audi\",\"bmw\",\"toyota\"]\n",
    "for car in cars:\n",
    "    if cars  != \"audi\":\n",
    "        print(car.upper)\n",
    "        break\n",
    "else:\n",
    "    print(\"good\")"
   ]
  },
  {
   "cell_type": "markdown",
   "metadata": {},
   "source": [
    "# ASSIGNMENT"
   ]
  },
  {
   "cell_type": "code",
   "execution_count": 2,
   "metadata": {},
   "outputs": [
    {
     "name": "stdout",
     "output_type": "stream",
     "text": [
      "Is car == 'subaru'? I predict True.\n",
      "False\n",
      "\n",
      "Is car == 'bmw'? I predict False.\n",
      "False\n",
      "\n",
      "Is car == 'lambo'? I predict False.\n",
      "False\n",
      "\n",
      "Is car == 'ferarri'? I predict False.\n",
      "False\n",
      "\n",
      "Is car == 'audi'? I predict False.\n",
      "False\n"
     ]
    }
   ],
   "source": [
    "car = 'subaru','bmw','wolkswagon','ferarri','astin martin'\n",
    "print(\"Is car == 'subaru'? I predict True.\")\n",
    "print(car == 'subaru')\n",
    "print(\"\\nIs car == 'bmw'? I predict False.\")\n",
    "print(car == 'bmw')\n",
    "print(\"\\nIs car == 'lambo'? I predict False.\")\n",
    "print(car == 'lambo')\n",
    "print(\"\\nIs car == 'ferarri'? I predict False.\")\n",
    "print(car == 'ferarri')\n",
    "\n",
    "\n",
    "print(\"\\nIs car == 'audi'? I predict False.\")\n",
    "print(car == 'audi')"
   ]
  },
  {
   "cell_type": "code",
   "execution_count": 12,
   "metadata": {},
   "outputs": [
    {
     "name": "stdout",
     "output_type": "stream",
     "text": [
      "False\n",
      "False\n",
      "False\n",
      "True\n",
      "False\n"
     ]
    }
   ],
   "source": [
    "car = 'subaru','bmw','wolkswagon','ferarri','astin martin'\n",
    "for cars in car:\n",
    "    if cars != 'lambo' or  cars == 'ferarri':\n",
    "        print(cars=='ferarri')\n",
    "        "
   ]
  },
  {
   "cell_type": "code",
   "execution_count": 9,
   "metadata": {},
   "outputs": [
    {
     "data": {
      "text/plain": [
       "['Subaru', 'BMW', 'Wolkswagon', 'Ferarri', 'Astin Martin']"
      ]
     },
     "execution_count": 9,
     "metadata": {},
     "output_type": "execute_result"
    }
   ],
   "source": [
    "car = 'subaru','bmw','wolkswagon','ferarri','astin martin'\n",
    "[cars.upper() if cars == 'bmw' else cars.title() for cars in car ]"
   ]
  },
  {
   "cell_type": "code",
   "execution_count": 13,
   "metadata": {},
   "outputs": [
    {
     "name": "stdout",
     "output_type": "stream",
     "text": [
      "you just earned 5 points\n"
     ]
    }
   ],
   "source": [
    "alien_color : str = input(\"what is the color of the alien\")\n",
    "if alien_color == 'green':\n",
    "    print(\"you just earned 5 points\")"
   ]
  },
  {
   "cell_type": "code",
   "execution_count": 14,
   "metadata": {},
   "outputs": [],
   "source": [
    "alien_color : str = input(\"what is the color of the alien\")\n",
    "if alien_color == 'green':\n",
    "    print(\"you just earned 5 points\")"
   ]
  },
  {
   "cell_type": "code",
   "execution_count": 15,
   "metadata": {},
   "outputs": [
    {
     "name": "stdout",
     "output_type": "stream",
     "text": [
      "you just earned 5 points for shooting down a alien\n"
     ]
    }
   ],
   "source": [
    "alien_color : str = input(\"what is the color of the alien\")\n",
    "if alien_color == 'green':\n",
    "    print(\"you just earned 5 points for shooting down a alien\")"
   ]
  },
  {
   "cell_type": "code",
   "execution_count": 17,
   "metadata": {},
   "outputs": [
    {
     "name": "stdout",
     "output_type": "stream",
     "text": [
      "the  player just earned 15 points\n"
     ]
    }
   ],
   "source": [
    "alien_color : str = input(\"what is the color of the alien\")\n",
    "if alien_color != 'green':\n",
    "    print(\"you just earned 5 points for shooting down a alien\")\n",
    "else:\n",
    "    print('the  player just earned 15 points')"
   ]
  },
  {
   "cell_type": "code",
   "execution_count": 19,
   "metadata": {},
   "outputs": [
    {
     "name": "stdout",
     "output_type": "stream",
     "text": [
      "the player just earned  20 points\n"
     ]
    }
   ],
   "source": [
    "alien_color : str = input(\"what is the color of the alien\")\n",
    "if alien_color == 'green':\n",
    "    print(\"you just earned 5 points for shooting down a alien\")\n",
    "elif alien_color == 'yellow':\n",
    "    print(\"the player just earned 15 points\")\n",
    "elif alien_color == 'red':\n",
    "    print(\"the player just earned  20 points\") \n",
    "else:\n",
    "    print('the  player just earned 0 points')"
   ]
  },
  {
   "cell_type": "code",
   "execution_count": 23,
   "metadata": {},
   "outputs": [
    {
     "name": "stdout",
     "output_type": "stream",
     "text": [
      "the person is an elder\n"
     ]
    }
   ],
   "source": [
    "age : int = int(input(\"what is your age\"))\n",
    "if age < 2 and age > 0 :\n",
    "    print(\"the person is a baby\")\n",
    "elif age >= 2 and age < 4:\n",
    "    print('the person is a toddler')\n",
    "elif age >=4 and age < 13:\n",
    "    print('the person is a  kid')\n",
    "elif age >= 13 and age < 20:\n",
    "    print('the person is a teenager')\n",
    "elif age >= 20 and age < 65:\n",
    "    print('the person is a adult')\n",
    "elif age >= 65:\n",
    "    print('the person is an elder')"
   ]
  },
  {
   "cell_type": "code",
   "execution_count": 28,
   "metadata": {},
   "outputs": [
    {
     "name": "stdout",
     "output_type": "stream",
     "text": [
      "do  you really like bananas\n",
      "do you really like  apple and  dont like apple shake\n",
      "do you really like mangos\n"
     ]
    }
   ],
   "source": [
    "favorite_fruits : list[str] = ['banana','apple','mango']\n",
    "for  fruits in favorite_fruits:\n",
    "    if 'banana' in fruits:\n",
    "        print(\"do  you really like bananas\")\n",
    "    elif 'watermalon' in fruits:\n",
    "        print(\"how thw fuck you like watermalons\")\n",
    "    elif 'apple' in fruits:\n",
    "        print(\"do you really like  apple and  dont like apple shake\")\n",
    "    elif 'pommygrant' in fruits:\n",
    "        print(\"do you really like pommygrants\")\n",
    "    elif 'mango' in fruits:\n",
    "        print(\"do you really like mangos\")\n"
   ]
  },
  {
   "cell_type": "code",
   "execution_count": 31,
   "metadata": {},
   "outputs": [
    {
     "name": "stdout",
     "output_type": "stream",
     "text": [
      "hello admin, good to see  you\n",
      "hello robert, how are you\n",
      "hello ali, how are you\n",
      "hello arslan, how are you\n",
      "hello haris, how are you\n"
     ]
    }
   ],
   "source": [
    "usernames : list[str] = ['admin','robert','ali','arslan','haris']\n",
    "for username in usernames:\n",
    "    if username == 'admin':\n",
    "        print(\"hello admin, good to see  you\")\n",
    "    elif username != 'admin':\n",
    "        print(f\"hello {username}, how are you\")"
   ]
  },
  {
   "cell_type": "code",
   "execution_count": 41,
   "metadata": {},
   "outputs": [
    {
     "ename": "AttributeError",
     "evalue": "'list' object has no attribute 'lower'",
     "output_type": "error",
     "traceback": [
      "\u001b[1;31m---------------------------------------------------------------------------\u001b[0m",
      "\u001b[1;31mAttributeError\u001b[0m                            Traceback (most recent call last)",
      "Cell \u001b[1;32mIn[41], line 3\u001b[0m\n\u001b[0;32m      1\u001b[0m current_users : \u001b[38;5;28mlist\u001b[39m[\u001b[38;5;28mstr\u001b[39m] \u001b[38;5;241m=\u001b[39m [\u001b[38;5;124m'\u001b[39m\u001b[38;5;124mali\u001b[39m\u001b[38;5;124m'\u001b[39m,\u001b[38;5;124m'\u001b[39m\u001b[38;5;124mmuhammad\u001b[39m\u001b[38;5;124m'\u001b[39m,\u001b[38;5;124m'\u001b[39m\u001b[38;5;124mJohn\u001b[39m\u001b[38;5;124m'\u001b[39m,\u001b[38;5;124m'\u001b[39m\u001b[38;5;124mrobert\u001b[39m\u001b[38;5;124m'\u001b[39m,\u001b[38;5;124m'\u001b[39m\u001b[38;5;124mFarhan\u001b[39m\u001b[38;5;124m'\u001b[39m]\n\u001b[0;32m      2\u001b[0m new_users :  \u001b[38;5;28mlist\u001b[39m[\u001b[38;5;28mstr\u001b[39m] \u001b[38;5;241m=\u001b[39m [\u001b[38;5;124m'\u001b[39m\u001b[38;5;124mamir\u001b[39m\u001b[38;5;124m'\u001b[39m,\u001b[38;5;124m'\u001b[39m\u001b[38;5;124mqurban\u001b[39m\u001b[38;5;124m'\u001b[39m,\u001b[38;5;124m'\u001b[39m\u001b[38;5;124mali\u001b[39m\u001b[38;5;124m'\u001b[39m,\u001b[38;5;124m'\u001b[39m\u001b[38;5;124mfarman\u001b[39m\u001b[38;5;124m'\u001b[39m,\u001b[38;5;124m'\u001b[39m\u001b[38;5;124mfarhan\u001b[39m\u001b[38;5;124m'\u001b[39m]\n\u001b[1;32m----> 3\u001b[0m current_users \u001b[38;5;241m=\u001b[39m  current_users\u001b[38;5;241m.\u001b[39mlower()\n\u001b[0;32m      4\u001b[0m new_users \u001b[38;5;241m=\u001b[39m new_users\u001b[38;5;241m.\u001b[39mlower()\n\u001b[0;32m      5\u001b[0m \u001b[38;5;28;01mfor\u001b[39;00m users \u001b[38;5;129;01min\u001b[39;00m new_users:\n",
      "\u001b[1;31mAttributeError\u001b[0m: 'list' object has no attribute 'lower'"
     ]
    }
   ],
   "source": [
    "current_users : list[str] = ['ali','muhammad','John','robert','Farhan']\n",
    "new_users :  list[str] = ['amir','qurban','ali','farman','farhan']\n",
    "current_users =  current_users.lower()\n",
    "new_users = new_users.lower()\n",
    "for users in new_users:\n",
    "    if users in current_users:\n",
    "        print(\"this username is already taken,  try another one\")\n",
    "    elif users not  in current_users:\n",
    "        print(\"this username is available\")"
   ]
  },
  {
   "cell_type": "code",
   "execution_count": 43,
   "metadata": {},
   "outputs": [
    {
     "name": "stdout",
     "output_type": "stream",
     "text": [
      "this username  is  available\n",
      "this username  is  available\n",
      "i am sorry this username is already taken\n",
      "this username  is  available\n",
      "i am sorry this username is already taken\n"
     ]
    }
   ],
   "source": [
    "current_users : list[str] = ['aLi','muhammad','John','robert','Farhan']\n",
    "new_users :  list[str] = ['amir','qurban','ali','farman','farhan']\n",
    "current_users_lower = [user.lower() for user in current_users]\n",
    "for new_user in new_users:\n",
    "    if new_user.lower() in current_users_lower:\n",
    "        print(\"i am sorry this username is already taken\")\n",
    "    else:\n",
    "        print(\"this username  is  available\")"
   ]
  }
 ],
 "metadata": {
  "kernelspec": {
   "display_name": "Python13",
   "language": "python",
   "name": "python3"
  },
  "language_info": {
   "codemirror_mode": {
    "name": "ipython",
    "version": 3
   },
   "file_extension": ".py",
   "mimetype": "text/x-python",
   "name": "python",
   "nbconvert_exporter": "python",
   "pygments_lexer": "ipython3",
   "version": "3.12.4"
  }
 },
 "nbformat": 4,
 "nbformat_minor": 2
}
