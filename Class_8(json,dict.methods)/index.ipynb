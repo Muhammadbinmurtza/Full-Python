{
 "cells": [
  {
   "cell_type": "code",
   "execution_count": 6,
   "metadata": {},
   "outputs": [
    {
     "name": "stdout",
     "output_type": "stream",
     "text": [
      "(4, 66, 7)\n"
     ]
    },
    {
     "data": {
      "text/plain": [
       "'NA'"
      ]
     },
     "execution_count": 6,
     "metadata": {},
     "output_type": "execute_result"
    }
   ],
   "source": [
    "from typing import Dict\n",
    "from  typing import Union\n",
    "value_type  = Union[int,str,set,tuple,float]\n",
    "value :  dict[value_type,value_type] = {'abc':{'a':1, 'b':5},\n",
    "                                        'efg' : (1,2,3),\n",
    "                                        'xyz' : \"muhammad\"\n",
    "                                        }\n",
    "value['efg'] =(4,66,7)\n",
    "value['abc']['a']\n",
    "print(value['efg'])\n",
    "value.get('aliu','NA')"
   ]
  },
  {
   "cell_type": "code",
   "execution_count": 12,
   "metadata": {},
   "outputs": [
    {
     "data": {
      "text/plain": [
       "['clear',\n",
       " 'copy',\n",
       " 'fromkeys',\n",
       " 'get',\n",
       " 'items',\n",
       " 'keys',\n",
       " 'pop',\n",
       " 'popitem',\n",
       " 'setdefault',\n",
       " 'update',\n",
       " 'values']"
      ]
     },
     "execution_count": 12,
     "metadata": {},
     "output_type": "execute_result"
    }
   ],
   "source": [
    "from typing import Dict\n",
    "from  typing import Union\n",
    "value_type  = Union[int,str,set,tuple,float]\n",
    "value :  dict[value_type,value_type] = {'abc':{'a':1, 'b':5},\n",
    "                                        'efg' : (1,2,3),\n",
    "                                        'xyz' : \"muhammad\"\n",
    "                                        }\n",
    "[m for m in dir(value) if  \"__\" not  in m]"
   ]
  },
  {
   "cell_type": "code",
   "execution_count": 10,
   "metadata": {},
   "outputs": [
    {
     "name": "stdout",
     "output_type": "stream",
     "text": [
      "{'abc': {'a': 1, 'b': 5}, 'efg': (1, 2, 3), 'xyz': 'muhammad'}\n",
      "{'abc': {'a': 1, 'b': 5}, 'efg': (1, 2, 3)}\n"
     ]
    }
   ],
   "source": [
    "from typing import Dict\n",
    "from  typing import Union\n",
    "value_type  = Union[int,str,set,tuple,float]\n",
    "value :  dict[value_type,value_type] = {'abc':{'a':1, 'b':5},\n",
    "                                        'efg' : (1,2,3),\n",
    "                                        'xyz' : \"muhammad\"\n",
    "                                        }\n",
    "print(value)\n",
    "[m for m in dir(value) if  \"__\" not  in m]\n",
    "value.popitem()\n",
    "print(value)"
   ]
  },
  {
   "cell_type": "code",
   "execution_count": 14,
   "metadata": {},
   "outputs": [
    {
     "name": "stdout",
     "output_type": "stream",
     "text": [
      "{'abc': {'a': 1, 'b': 5}, 'efg': (1, 2, 3), 'xyz': 'muhammad', 'pk': None}\n"
     ]
    }
   ],
   "source": [
    "# set default adds  the key in the dictionary if there is no key like that\n",
    "from typing import Dict\n",
    "from  typing import Union\n",
    "value_type  = Union[int,str,set,tuple,float]\n",
    "value :  dict[value_type,value_type] = {'abc':{'a':1, 'b':5},\n",
    "                                        'efg' : (1,2,3),\n",
    "                                        'xyz' : \"muhammad\"\n",
    "                                        }\n",
    "value.setdefault(\"pk\")\n",
    "print(value)"
   ]
  },
  {
   "cell_type": "code",
   "execution_count": 15,
   "metadata": {},
   "outputs": [
    {
     "data": {
      "text/plain": [
       "{'abc': [1, 2, 3], 'efg': 3, 'xyz': 'muhammad', 'age': 30}"
      ]
     },
     "execution_count": 15,
     "metadata": {},
     "output_type": "execute_result"
    }
   ],
   "source": [
    "from typing import Dict\n",
    "from  typing import Union\n",
    "value_type  = Union[int,str,set,tuple,float]\n",
    "value :  dict[value_type,value_type] = {'abc':{'a':1, 'b':5},\n",
    "                                        'efg' : (1,2,3),\n",
    "                                        'xyz' : \"muhammad\"\n",
    "                                        }\n",
    "value1 : dict[value_type,value_type] = {'abc':[1,2,3],\n",
    "                                        'efg' : 3,\n",
    "                                        'age' : 30\n",
    "                                        }\n",
    "value.update(value1)\n",
    "value"
   ]
  },
  {
   "cell_type": "code",
   "execution_count": 17,
   "metadata": {},
   "outputs": [
    {
     "name": "stdout",
     "output_type": "stream",
     "text": [
      "original position: 0\n",
      "new position: 3\n"
     ]
    }
   ],
   "source": [
    "alien_0 : dict[value_type,value_type] ={'x': 0, 'y':25, 'speed': 'medium'}\n",
    "print(f\"original position: {alien_0['x']}\")\n",
    "alien_0['speed'] = 'fast'\n",
    "if alien_0['speed'] == 'slow':\n",
    "    x_increment = 1\n",
    "elif alien_0['speed']  == 'medium':\n",
    "    x_increment = 2\n",
    "else:\n",
    "    x_increment  = 3\n",
    "alien_0['x'] += x_increment\n",
    "print(f\"new position: {alien_0['x']}\")\n"
   ]
  },
  {
   "cell_type": "code",
   "execution_count": 26,
   "metadata": {},
   "outputs": [
    {
     "name": "stdout",
     "output_type": "stream",
     "text": [
      "your  percentage  is  65.0 and your grades are  B\n"
     ]
    }
   ],
   "source": [
    "from typing import Any\n",
    "perc_input = float(input(\"what is your percentage\"))\n",
    "percent : dict[Any,Any] = {'percentage': perc_input, 'grade':[]}\n",
    "if percent['percentage']>= (90) and percent['percentage'] <= (100):\n",
    "    value = 'A+'\n",
    "elif percent['percentage']>= (70) and percent['percentage'] <= (100):\n",
    "    value = 'A'\n",
    "elif percent['percentage']>= (60) and percent['percentage'] <= (100):\n",
    "    value = 'B'\n",
    "elif percent['percentage']>= (40) and percent['percentage'] <= (100):\n",
    "    value = 'C'\n",
    "elif percent['percentage']>= (33) and percent['percentage'] <= (100):\n",
    "    value = 'D'\n",
    "elif percent['percentage']< (33) and percent['percentage'] >(0):\n",
    "    value = 'fail'\n",
    "\n",
    "percent['grade'] = value\n",
    "print(f\"your  percentage  is  {percent['percentage']} and your grades are  {percent['grade']}\")\n"
   ]
  },
  {
   "cell_type": "markdown",
   "metadata": {},
   "source": [
    "#  ASSIGNMENT 2"
   ]
  },
  {
   "cell_type": "code",
   "execution_count": 7,
   "metadata": {},
   "outputs": [
    {
     "name": "stdout",
     "output_type": "stream",
     "text": [
      "{'first name': 'umar', 'last name': 'jutt', 'age': '19'}\n",
      "{'first name': 'talha', 'last name': 'malik', 'age': '18'}\n",
      "{'first name': 'numan', 'last name': ',mian', 'age': '20'}\n"
     ]
    }
   ],
   "source": [
    "from typing import Any , Dict\n",
    "first_per : dict[Any,Any] = {'first name':'umar',\n",
    "                             'last name': 'jutt',\n",
    "                             'age': '19'}\n",
    "second_per : dict[Any,Any] = {'first name':'talha',\n",
    "                             'last name': 'malik',\n",
    "                             'age': '18'}\n",
    "third_per : dict[Any,Any] = {'first name':'numan',\n",
    "                             'last name': ',mian',\n",
    "                             'age': '20'}\n",
    "people : list[dict] = [first_per,second_per,third_per]\n",
    "for key  in people:\n",
    "    print(key)"
   ]
  },
  {
   "cell_type": "code",
   "execution_count": 8,
   "metadata": {},
   "outputs": [
    {
     "data": {
      "text/plain": [
       "[{'Animal': 'cat', 'owner name': 'jutt'},\n",
       " {'Animal': 'dog', 'owner name': 'mian'},\n",
       " {'Animal': 'lion', 'owner name': 'mian'}]"
      ]
     },
     "execution_count": 8,
     "metadata": {},
     "output_type": "execute_result"
    }
   ],
   "source": [
    "first_pet : dict[Any,Any] = {'Animal' : 'cat',\n",
    "                             'owner name': 'jutt',\n",
    "                             }\n",
    "second_pet : dict[Any,Any] = {'Animal':'dog',\n",
    "                              'owner name': 'mian'\n",
    "                              }\n",
    "third_pet : dict[Any,Any] = {'Animal':'lion',\n",
    "                             'owner name': 'mian'\n",
    "                             }\n",
    "pets : list[dict] = [first_pet,second_pet,third_pet]\n",
    "[pet for pet in pets]"
   ]
  },
  {
   "cell_type": "code",
   "execution_count": 26,
   "metadata": {},
   "outputs": [
    {
     "name": "stdout",
     "output_type": "stream",
     "text": [
      "{'naran': 'talha', 'switzerland': 'umar', 'astore': 'muhamamd'}\n",
      "talha: naran\n",
      "umar: switzerland\n",
      "muhamamd: astore\n",
      "farhan: kagan\n",
      "abdullah: muree\n",
      "numan: karachi\n"
     ]
    }
   ],
   "source": [
    "fav_place : dict[Any,Any] = {'naran':'talha',\n",
    "                              'switzerland':'umar',\n",
    "                              'astore':'muhamamd'\n",
    "                              }\n",
    "print(fav_place)\n",
    "farhan_place : Any = (input(\"Farhan: which is your  fav  place?\"))\n",
    "abdullah_place : Any = (input(\"Abdullah: which is your fav place?\"))\n",
    "numan_place :  Any = (input(\"Numan: which is your  fav  plcae?\"))\n",
    "fav_places  : dict[Any,Any] = {'naran':'talha',\n",
    "                              'switzerland':'umar',\n",
    "                              'astore':'muhamamd',\n",
    "                               farhan_place : 'farhan',\n",
    "                               abdullah_place : 'abdullah',\n",
    "                               numan_place : 'numan'\n",
    "                              }\n",
    "for keys, values in fav_places.items():\n",
    "    print(f\"{values}: {keys}\")"
   ]
  },
  {
   "cell_type": "code",
   "execution_count": 31,
   "metadata": {},
   "outputs": [
    {
     "name": "stdout",
     "output_type": "stream",
     "text": [
      "umar's fav numbers  are: 456\n",
      "talha's fav numbers  are: 4\n",
      "numan's fav numbers  are: 3\n",
      "arham's fav numbers  are: 7\n",
      "abdullah's fav numbers  are: 6\n"
     ]
    }
   ],
   "source": [
    "fav_no : dict[Any,Any] = {'umar':4,\n",
    "                           'talha': 6,\n",
    "                           'numan': 10,\n",
    "                           'arham': 3,\n",
    "                           'abdullah': 1\n",
    "                           }\n",
    "fav_no['talha'] = input(\"yout fav. numbers?\")\n",
    "fav_no['abdullah']  = input(\"yout fav. numbers?\")\n",
    "fav_no['arham'] = input(\"yout fav. numbers?\")\n",
    "fav_no['numan'] =  input(\"yout fav. numbers?\")\n",
    "fav_no['umar']  = input(\"yout fav. numbers?\")\n",
    "for  keys,values in fav_no.items():\n",
    "    print(f\"{keys}'s fav numbers  are  : {values}\")"
   ]
  },
  {
   "cell_type": "code",
   "execution_count": 32,
   "metadata": {},
   "outputs": [
    {
     "name": "stdout",
     "output_type": "stream",
     "text": [
      "faisalabad : {'country': 'pakistan', 'population': '22 crore', 'fact': 'hramdi army'}\n",
      "New  york : {'country': 'America', 'population': 'in millions', 'fact': 'land  of opportunities'}\n",
      "brussels : {'country': 'Spain', 'population': 'in millions', 'fact': 'beautiful city'}\n"
     ]
    }
   ],
   "source": [
    "cities : dict[Any,Any] = {'faisalabad':'',\n",
    "                          'New  york' : '',\n",
    "                          'brussels' : '',\n",
    "                          }\n",
    "faisalabad: dict[Any,Any] = {'country':'pakistan',\n",
    "                             'population':'22 crore',\n",
    "                             'fact':'hramdi army'\n",
    "                             }\n",
    "new_york : dict[Any,Any] =  {'country':'America',\n",
    "                             'population':'in millions',\n",
    "                             'fact':'land  of opportunities'\n",
    "                             }\n",
    "Brussels : dict[Any,Any] =  {'country':'Spain',\n",
    "                             'population':'in millions',\n",
    "                             'fact':'beautiful city'\n",
    "                             }\n",
    "cities1 : dict[Any,Any] = {'faisalabad':faisalabad,\n",
    "                          'New  york' : new_york,\n",
    "                          'brussels' : Brussels\n",
    "                          }\n",
    "cities.update(cities1)\n",
    "for keys,values in cities1.items():\n",
    "    print(f\"{keys} : {values}\")"
   ]
  },
  {
   "cell_type": "code",
   "execution_count": 33,
   "metadata": {},
   "outputs": [
    {
     "name": "stdout",
     "output_type": "stream",
     "text": [
      "data\n"
     ]
    }
   ],
   "source": [
    "print('data')"
   ]
  },
  {
   "cell_type": "code",
   "execution_count": 36,
   "metadata": {},
   "outputs": [
    {
     "data": {
      "text/plain": [
       "True"
      ]
     },
     "execution_count": 36,
     "metadata": {},
     "output_type": "execute_result"
    }
   ],
   "source": [
    "\"muhammad\" in 'muhammad  is a good person\\'s and a great engineer of ML'"
   ]
  },
  {
   "cell_type": "code",
   "execution_count": 40,
   "metadata": {},
   "outputs": [
    {
     "name": "stdout",
     "output_type": "stream",
     "text": [
      "[]\n",
      "[{'color': 'green', 'points': 5, 'speed': 'slow'},\n",
      " {'color': 'green', 'points': 5, 'speed': 'slow'},\n",
      " {'color': 'green', 'points': 5, 'speed': 'slow'},\n",
      " {'color': 'green', 'points': 5, 'speed': 'slow'},\n",
      " {'color': 'green', 'points': 5, 'speed': 'slow'}]\n"
     ]
    }
   ],
   "source": [
    "import pprint\n",
    "aliens = []\n",
    "print(aliens)\n",
    "for  alien_number in range(5):\n",
    "    new_alien = {'color':'green','points':5 , 'speed' : 'slow'}\n",
    "    aliens.append(new_alien)\n",
    "pprint.pprint(aliens)"
   ]
  },
  {
   "cell_type": "code",
   "execution_count": 53,
   "metadata": {},
   "outputs": [
    {
     "name": "stdout",
     "output_type": "stream",
     "text": [
      "{\n",
      "   \"faisalabad\": \"PK\",\n",
      "   \"New  york\": \"US\",\n",
      "   \"brussels\": \"SPAIN\"\n",
      "}\n",
      "{'faisalabad': 'PK', 'New  york': 'US', 'brussels': 'SPAIN'}\n",
      "<class 'dict'>\n"
     ]
    }
   ],
   "source": [
    "import  json\n",
    "cities : dict[Any,Any] = {'faisalabad':'PK',\n",
    "                          'New  york' : 'US',\n",
    "                          'brussels' : 'SPAIN',\n",
    "                          }\n",
    "cities3 = json.dumps(cities, indent= 3)\n",
    "data2 = json.loads(cities3)\n",
    "print(cities3)\n",
    "print(data2)\n",
    "print(type(data2))"
   ]
  },
  {
   "cell_type": "code",
   "execution_count": null,
   "metadata": {},
   "outputs": [],
   "source": [
    "# def do_POST(self):\n",
    "#     length = int(self.headers['Content-Length'])\n",
    "#     decData = str(self.rfile.read(length))\n",
    "#     print (decData), type(decData)\n",
    "#     \"{'name' : 'journal2'}\" < type  'str' >\n",
    "#     postData = json.loads(decData)\n",
    "#     print (postData), type(postData)\n",
    "#     #{'name' : 'journal2'} <type 'unicode'>\n",
    "#     postData = json.loads(postData)\n",
    "#     print (postData), type(postData)\n",
    "#     # Error: Expecting property name enclosed in double quotes"
   ]
  }
 ],
 "metadata": {
  "kernelspec": {
   "display_name": "Python13",
   "language": "python",
   "name": "python3"
  },
  "language_info": {
   "codemirror_mode": {
    "name": "ipython",
    "version": 3
   },
   "file_extension": ".py",
   "mimetype": "text/x-python",
   "name": "python",
   "nbconvert_exporter": "python",
   "pygments_lexer": "ipython3",
   "version": "3.12.4"
  }
 },
 "nbformat": 4,
 "nbformat_minor": 2
}
