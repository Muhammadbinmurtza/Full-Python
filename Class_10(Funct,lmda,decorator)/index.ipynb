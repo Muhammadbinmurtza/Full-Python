{
 "cells": [
  {
   "cell_type": "markdown",
   "metadata": {},
   "source": [
    "# Function\n",
    "* pre defined function\n",
    "    * provided by in language\n",
    "* user defined function\n",
    "    *  custom function\n",
    "* Return and non return  function\n",
    "    * return\n",
    "        \n",
    "## Compoonents\n",
    "* function decleration\n",
    "    * function name\n",
    "    * parameters\n",
    "        * param : type\n",
    "    * return type\n",
    "    * agruments\n",
    "\n",
    "* function body\n",
    "*  function  calling\n",
    "### Syntax  of function\n",
    "```\n",
    "def function_name(param1: type, param2:type,...)-> return_type\n",
    "function_name(arg1,arg2)\n",
    "```\n"
   ]
  },
  {
   "cell_type": "markdown",
   "metadata": {},
   "source": [
    "# pre defined functions\n",
    "* print\n",
    "* len\n",
    "* id\n",
    "* dir\n",
    "* chr\n",
    "* ord\n",
    "* exec"
   ]
  },
  {
   "cell_type": "markdown",
   "metadata": {},
   "source": [
    "# return and  non return func"
   ]
  },
  {
   "cell_type": "code",
   "execution_count": 1,
   "metadata": {},
   "outputs": [
    {
     "name": "stdout",
     "output_type": "stream",
     "text": [
      "pakistan\n"
     ]
    },
    {
     "data": {
      "text/plain": [
       "None"
      ]
     },
     "metadata": {},
     "output_type": "display_data"
    }
   ],
   "source": [
    "a : str = print(\"pakistan\")\n",
    "display(a) # none \n",
    "# non return function"
   ]
  },
  {
   "cell_type": "code",
   "execution_count": 2,
   "metadata": {},
   "outputs": [
    {
     "data": {
      "text/plain": [
       "8"
      ]
     },
     "metadata": {},
     "output_type": "display_data"
    }
   ],
   "source": [
    "a : int = len(\"pakistan\")    # rerturn function\n",
    "display(a)"
   ]
  },
  {
   "cell_type": "markdown",
   "metadata": {},
   "source": [
    "### create simple  function without argument(dafault function)"
   ]
  },
  {
   "cell_type": "code",
   "execution_count": 3,
   "metadata": {},
   "outputs": [
    {
     "name": "stdout",
     "output_type": "stream",
     "text": [
      "piaic\n",
      "crash course\n"
     ]
    }
   ],
   "source": [
    "def piaic()-> None: # decleration\n",
    "    # function body\n",
    "    print('piaic') # statement 1\n",
    "    print('crash course') #  statement 2\n",
    "    #  funcation body ends\n",
    "piaic()"
   ]
  },
  {
   "cell_type": "markdown",
   "metadata": {},
   "source": [
    "## function with optional parameters"
   ]
  },
  {
   "cell_type": "code",
   "execution_count": 1,
   "metadata": {},
   "outputs": [
    {
     "data": {
      "text/plain": [
       "3"
      ]
     },
     "execution_count": 1,
     "metadata": {},
     "output_type": "execute_result"
    }
   ],
   "source": [
    "#                             optional value\n",
    "def add_num(num1:int , num2 : int = 0) -> int:\n",
    "    return num1 + num2\n",
    "add_num(1,2)"
   ]
  },
  {
   "cell_type": "markdown",
   "metadata": {},
   "source": [
    "### syntax  of lambda  functiom\n",
    "* one line function\n",
    "* without name\n",
    "* only use in one line\n",
    "```\n",
    "lambda param1,param2 : function_body\n",
    "```"
   ]
  },
  {
   "cell_type": "code",
   "execution_count": 7,
   "metadata": {},
   "outputs": [
    {
     "data": {
      "text/plain": [
       "3"
      ]
     },
     "execution_count": 7,
     "metadata": {},
     "output_type": "execute_result"
    }
   ],
   "source": [
    "#  calls in variable\n",
    "a  = lambda num1, num2 : num1 + num2\n",
    "a(1,2)"
   ]
  },
  {
   "cell_type": "code",
   "execution_count": 16,
   "metadata": {},
   "outputs": [
    {
     "name": "stdout",
     "output_type": "stream",
     "text": [
      "[9, 64, 4356]\n"
     ]
    }
   ],
   "source": [
    "data : list[int] = [1,2,3,4,5,6,7,8,9,10]\n",
    "mbm : list[int] = [3,8,66]\n",
    "a = list(map(lambda x:x**2, mbm))\n",
    "print(a)"
   ]
  },
  {
   "cell_type": "code",
   "execution_count": 18,
   "metadata": {},
   "outputs": [
    {
     "data": {
      "text/plain": [
       "[16]"
      ]
     },
     "execution_count": 18,
     "metadata": {},
     "output_type": "execute_result"
    }
   ],
   "source": [
    "mbm : list[int] = [9,81,16]\n",
    "bb = list(filter(lambda x:x%2==0,mbm))\n",
    "bb"
   ]
  },
  {
   "cell_type": "markdown",
   "metadata": {},
   "source": [
    "##  Generator function\n",
    "* checks the value  and keep it at the same time like filter\n",
    "* iterate on element one by one\n",
    "* stops after each iteration\n",
    "* remember old iteration(last iterate value)\n",
    "*  next iterate\n",
    "    *  go farward from last iterate value"
   ]
  },
  {
   "cell_type": "code",
   "execution_count": 19,
   "metadata": {},
   "outputs": [],
   "source": [
    "def  my_range(start:int,end:int):\n",
    "    for i in range(start,end+3):\n",
    "        yield i"
   ]
  },
  {
   "cell_type": "markdown",
   "metadata": {},
   "source": [
    "##  pass  unlimited arguments"
   ]
  },
  {
   "cell_type": "code",
   "execution_count": 25,
   "metadata": {},
   "outputs": [
    {
     "name": "stdout",
     "output_type": "stream",
     "text": [
      "(1, 2, 3, 4, 5, 6)\n"
     ]
    },
    {
     "data": {
      "text/plain": [
       "21"
      ]
     },
     "execution_count": 25,
     "metadata": {},
     "output_type": "execute_result"
    }
   ],
   "source": [
    "# if  we putt  star ic (*)  with the  parmeter then we can pass unlimited arguments\n",
    "def abc(*nums):\n",
    "    print(nums)\n",
    "    total = 0\n",
    "    for n in  nums:\n",
    "        total += n\n",
    "\n",
    "    return total\n",
    "\n",
    "\n",
    "abc(1,2,3,4,5,6)"
   ]
  },
  {
   "cell_type": "code",
   "execution_count": 26,
   "metadata": {},
   "outputs": [
    {
     "data": {
      "text/plain": [
       "9"
      ]
     },
     "execution_count": 26,
     "metadata": {},
     "output_type": "execute_result"
    }
   ],
   "source": [
    "def add_num(num1:int , num2 : int) -> int:\n",
    "    return num1 + num2\n",
    "add_num(num2=4,num1=5) # keyword  arguments"
   ]
  },
  {
   "cell_type": "code",
   "execution_count": 1,
   "metadata": {},
   "outputs": [
    {
     "name": "stdout",
     "output_type": "stream",
     "text": [
      "{'a': 1, 'b': 3, 'c': 5} <class 'dict'>\n",
      "None\n"
     ]
    }
   ],
   "source": [
    "def xyz(**abcd): # keyword arguments with return type \"DICT\"\n",
    "    print(abcd,type(abcd))\n",
    "    return\n",
    "\n",
    "result= xyz(a=1,b=3,c=5)\n",
    "print(result)"
   ]
  },
  {
   "cell_type": "markdown",
   "metadata": {},
   "source": [
    "### single staric \n",
    "    * positinal arguments and return type 'Tuple'\n",
    "### double staric\n",
    "    * keyword arguments and return type 'DICT'"
   ]
  },
  {
   "cell_type": "code",
   "execution_count": 28,
   "metadata": {},
   "outputs": [
    {
     "name": "stdout",
     "output_type": "stream",
     "text": [
      "(1, 3, 5) <class 'tuple'>\n"
     ]
    }
   ],
   "source": [
    "def xyz(*abcd): # positional  arguments with return type \"tuple\"\n",
    "    print(abcd,type(abcd))\n",
    "\n",
    "xyz(1,3,5)"
   ]
  },
  {
   "cell_type": "code",
   "execution_count": 37,
   "metadata": {},
   "outputs": [
    {
     "name": "stdout",
     "output_type": "stream",
     "text": [
      "1 3 (6, 7, 8, 9) {'d': 1, 'f': 2, 'g': 3}\n"
     ]
    }
   ],
   "source": [
    "def function_dec(a, b, *abcd, **abc): # positional  arguments with return type \"tuple\"\n",
    "    print(a,b,abcd,abc)\n",
    "\n",
    "function_dec(1,3,  6,7,8,9, d=1,f=2,g=3)"
   ]
  },
  {
   "cell_type": "code",
   "execution_count": 40,
   "metadata": {},
   "outputs": [
    {
     "name": "stdout",
     "output_type": "stream",
     "text": [
      "hello: monica\n",
      "hello: muhammad\n",
      "hello: ishmal\n",
      "hello: ali\n",
      "hello: muhammad  qasim\n"
     ]
    }
   ],
   "source": [
    "from typing import Tuple\n",
    "def greet(*names: Tuple[str,...]) -> None:\n",
    "    for name in names:\n",
    "        print(f\"hello: {name}\")\n",
    "greet('monica','muhammad','ishmal','ali','muhammad  qasim')"
   ]
  },
  {
   "cell_type": "code",
   "execution_count": 2,
   "metadata": {},
   "outputs": [
    {
     "name": "stdout",
     "output_type": "stream",
     "text": [
      "{'a': 'pakistan', 'b': 'china'}\n"
     ]
    }
   ],
   "source": [
    "from typing import Dict\n",
    "def greet(**names: Dict[str,str]) -> None:\n",
    "    print(names)\n",
    "greet(a='pakistan', b = 'china')"
   ]
  },
  {
   "cell_type": "code",
   "execution_count": 46,
   "metadata": {},
   "outputs": [
    {
     "name": "stdout",
     "output_type": "stream",
     "text": [
      "1 2 (7, 8, 9, 0) {'c': 20, 'd': 5}\n"
     ]
    }
   ],
   "source": [
    "from typing import Tuple,Dict,Any\n",
    "def my_func(a:int, b:int,*abc:Tuple[int,...], **xyz: Dict[str,int]) -> None:\n",
    "    print(a, b, abc, xyz)\n",
    "my_func(1,2, 7,8,9,0, c= 20, d = 5)"
   ]
  },
  {
   "cell_type": "markdown",
   "metadata": {},
   "source": [
    "# ASSIGNMENT"
   ]
  },
  {
   "cell_type": "code",
   "execution_count": 1,
   "metadata": {},
   "outputs": [
    {
     "data": {
      "text/plain": [
       "'you are learning funcytions in this  chapter'"
      ]
     },
     "execution_count": 1,
     "metadata": {},
     "output_type": "execute_result"
    }
   ],
   "source": [
    "def display_message(sentence:str)-> str:\n",
    "    return(sentence)\n",
    "display_message(\"you are learning funcytions in this  chapter\")\n"
   ]
  },
  {
   "cell_type": "code",
   "execution_count": 4,
   "metadata": {},
   "outputs": [
    {
     "name": "stdout",
     "output_type": "stream",
     "text": [
      "my fav book is the \"alice in wonderland\"\n"
     ]
    }
   ],
   "source": [
    "def  favorite_book(title:str) -> str:\n",
    "    print(f\"my fav book is the \\\"{title}\\\"\")\n",
    "favorite_book(\"alice in wonderland\")"
   ]
  },
  {
   "cell_type": "code",
   "execution_count": 6,
   "metadata": {},
   "outputs": [
    {
     "name": "stdout",
     "output_type": "stream",
     "text": [
      "the size of  your  shirt is 15 and this is great size\n"
     ]
    }
   ],
   "source": [
    "from typing import Any\n",
    "def make_shirt(size:int, message:str)-> Any:\n",
    "    print(f\"the size of  your  shirt is {size} and {message}\")\n",
    "make_shirt(15,'this is great size')"
   ]
  },
  {
   "cell_type": "code",
   "execution_count": 7,
   "metadata": {},
   "outputs": [
    {
     "name": "stdout",
     "output_type": "stream",
     "text": [
      "the size of  your  shirt is 15 and this  is great shirt\n"
     ]
    }
   ],
   "source": [
    "from typing import Any\n",
    "def make_shirt(size:int, message:str)-> Any:\n",
    "    print(f\"the size of  your  shirt is {size} and {message}\")\n",
    "make_shirt(message='this  is great shirt', size=15)"
   ]
  },
  {
   "cell_type": "code",
   "execution_count": 4,
   "metadata": {},
   "outputs": [
    {
     "name": "stdout",
     "output_type": "stream",
     "text": [
      "your size is fucking small\n"
     ]
    }
   ],
   "source": [
    "from typing import Any\n",
    "def make_shirt(size:str, message:str)-> str:\n",
    "    if size=='large':\n",
    "        print(f\"the size of  your  shirt is {size} and {message}\")\n",
    "    elif size=='medium':\n",
    "        print(f\"I  love you and your size is {size} and {message}\")\n",
    "    else:\n",
    "        print(f\"your size is fucking {size}\")\n",
    "\n",
    "make_shirt(message='this  is great shirt', size='small')\n"
   ]
  },
  {
   "cell_type": "code",
   "execution_count": 14,
   "metadata": {},
   "outputs": [
    {
     "name": "stdout",
     "output_type": "stream",
     "text": [
      "umar  is in faisalabad\n",
      "umar  is in lahore\n",
      "umar  is in murree\n"
     ]
    }
   ],
   "source": [
    "def  describe_city(city_name:str,country_name:str='pakistan') -> str:\n",
    "    print(f\"umar  is in {city_name}\")\n",
    "describe_city('faisalabad')\n",
    "describe_city('lahore')\n",
    "describe_city('murree')"
   ]
  },
  {
   "cell_type": "code",
   "execution_count": 19,
   "metadata": {},
   "outputs": [
    {
     "data": {
      "text/plain": [
       "('lahore', 'pakistan')"
      ]
     },
     "execution_count": 19,
     "metadata": {},
     "output_type": "execute_result"
    }
   ],
   "source": [
    "def  city_country(city:str,country:str) -> str:\n",
    "    return city,country\n",
    "city_country('faisalabad','pakistan')\n",
    "city_country('multan','pakistan')\n",
    "city_country('lahore','pakistan')"
   ]
  },
  {
   "cell_type": "code",
   "execution_count": 28,
   "metadata": {},
   "outputs": [
    {
     "name": "stdout",
     "output_type": "stream",
     "text": [
      "('Faisalabad', 'PAKISTAN')\n",
      "('Lahore', 'PAKISTAN')\n",
      "('Muree', 'PAKISTAN')\n"
     ]
    }
   ],
   "source": [
    "def  city_country(city:str,country:str) -> str:\n",
    "    return city.title(),country.upper()\n",
    "city1 = city_country('faisalabad','pakistan')\n",
    "city2 = city_country('lahore','pakistan')\n",
    "city3 = city_country('muree','pakistan')\n",
    "print(city1)\n",
    "print(city2)\n",
    "print(city3)"
   ]
  },
  {
   "cell_type": "code",
   "execution_count": 7,
   "metadata": {},
   "outputs": [
    {
     "name": "stdout",
     "output_type": "stream",
     "text": [
      "{'artist': 'farkhar', '\\nalbum': 'love'}\n",
      "{'artist': 'ali', '\\nalbum': 'haye zindagi'}\n",
      "{'artist': 'NFAK', '\\nalbum': 'hanjua  di kra tsbi'}\n"
     ]
    }
   ],
   "source": [
    "from typing  import Dict\n",
    "def make_album(artist,album):\n",
    "    return {\n",
    "        'artist': artist,\n",
    "        'album' : album\n",
    "        }\n",
    "album1= make_album('farkhar','love')\n",
    "album2= make_album('ali','haye zindagi')\n",
    "album3= make_album('NFAK','hanjua  di kra tsbi')\n",
    "print(album1)\n",
    "print(album2)\n",
    "print(album3)\n"
   ]
  },
  {
   "cell_type": "code",
   "execution_count": 39,
   "metadata": {},
   "outputs": [
    {
     "name": "stdout",
     "output_type": "stream",
     "text": [
      "{'artist': 'The Beatles', 'album': 'Abbey Road'}\n",
      "{'artist': 'Pink Floyd', 'album': 'The Dark Side of the Moon'}\n",
      "{'artist': 'Adele', 'album': '25'}\n"
     ]
    }
   ],
   "source": [
    "def make_album(artist_name, album_title):\n",
    "    \"\"\"Return a dictionary describing a music album.\"\"\"\n",
    "    return {\n",
    "        \"artist\": artist_name,\n",
    "        \"album\": album_title\n",
    "    }\n",
    "\n",
    "# Create dictionaries for three different albums\n",
    "album1 = make_album(\"The Beatles\", \"Abbey Road\")\n",
    "album2 = make_album(\"Pink Floyd\", \"The Dark Side of the Moon\")\n",
    "album3 = make_album(\"Adele\", \"25\")\n",
    "\n",
    "# Print each album dictionary\n",
    "print(album1)  # Output: {'artist': 'The Beatles', 'album': 'Abbey Road'}\n",
    "print(album2)  # Output: {'artist': 'Pink Floyd', 'album': 'The Dark Side of the Moon'}\n",
    "print(album3)  # Output: {'artist': 'Adele', 'album': '25'}\n"
   ]
  },
  {
   "cell_type": "code",
   "execution_count": 8,
   "metadata": {},
   "outputs": [
    {
     "name": "stdout",
     "output_type": "stream",
     "text": [
      "0\n",
      "2\n",
      "4\n",
      "6\n",
      "8\n",
      "10\n",
      "12\n",
      "14\n"
     ]
    }
   ],
   "source": [
    "def func(c):\n",
    "    a = 0\n",
    "    while  a < c:\n",
    "        if a % 2 == 0:\n",
    "            yield a\n",
    "        a += 1\n",
    "x = func(15)\n",
    "for i in x:\n",
    "    print(i)"
   ]
  },
  {
   "cell_type": "code",
   "execution_count": 9,
   "metadata": {},
   "outputs": [
    {
     "name": "stdout",
     "output_type": "stream",
     "text": [
      "0\n",
      "2\n",
      "4\n"
     ]
    }
   ],
   "source": [
    "def func(c):\n",
    "    a = 0\n",
    "    while  a < c:\n",
    "        if a % 2 == 0:\n",
    "            yield a\n",
    "        a += 1\n",
    "x = func(15)\n",
    "print(x.__next__())\n",
    "print(x.__next__())\n",
    "print(x.__next__())"
   ]
  },
  {
   "cell_type": "code",
   "execution_count": 13,
   "metadata": {},
   "outputs": [
    {
     "name": "stdout",
     "output_type": "stream",
     "text": [
      "0\n",
      "3\n",
      "6\n",
      "9\n",
      "12\n",
      "15\n",
      "18\n",
      "21\n",
      "24\n",
      "27\n",
      "30\n",
      "33\n",
      "36\n",
      "39\n",
      "42\n",
      "45\n",
      "48\n",
      "51\n",
      "54\n"
     ]
    }
   ],
   "source": [
    "def gen(a):\n",
    "    c = 0\n",
    "    while c < a:\n",
    "         if c % 3 ==0:\n",
    "              yield c\n",
    "         c += 1\n",
    "muhammad = gen(56)\n",
    "for i in muhammad:\n",
    "     print(i)"
   ]
  },
  {
   "cell_type": "code",
   "execution_count": 35,
   "metadata": {},
   "outputs": [
    {
     "name": "stdout",
     "output_type": "stream",
     "text": [
      "payment has started\n",
      "executing\n",
      "payment has been sent\n"
     ]
    }
   ],
   "source": [
    "def deco(func):\n",
    "    def wrapper(*args,**kwargs):\n",
    "        print('payment has started')\n",
    "        result = func(*args , **kwargs)\n",
    "        print('payment has been sent')\n",
    "    return wrapper\n",
    "\n",
    "@deco\n",
    "def hello():\n",
    "    print('executing')\n",
    "    \n",
    "hello()\n"
   ]
  },
  {
   "cell_type": "code",
   "execution_count": 5,
   "metadata": {},
   "outputs": [
    {
     "name": "stdout",
     "output_type": "stream",
     "text": [
      "Payment has started\n",
      "Executing\n",
      "Payment has been sent\n"
     ]
    }
   ],
   "source": [
    "# CHAT GPT\n",
    "def deco(func):\n",
    "    def wrapper(*args, **kwargs):\n",
    "        print('Payment has started')\n",
    "        result = func(*args, **kwargs)\n",
    "        print('Payment has been sent')\n",
    "        return result\n",
    "    return wrapper\n",
    "\n",
    "@deco\n",
    "def hello():\n",
    "    print('Executing')\n",
    "\n",
    "hello()\n"
   ]
  },
  {
   "cell_type": "code",
   "execution_count": 12,
   "metadata": {},
   "outputs": [
    {
     "name": "stdout",
     "output_type": "stream",
     "text": [
      "i got decorated\n",
      "i love mangos ali\n"
     ]
    }
   ],
   "source": [
    "def make_awesome(func):\n",
    "    def inner(name:int):\n",
    "        print('i got decorated')\n",
    "        return func(name)\n",
    "    return inner\n",
    "@make_awesome      \n",
    "def ordinary(name:str):\n",
    "    print(f\"i love mangos {name}\")\n",
    "ordinary(\"ali\")\n",
    "# decoration = make_awesome(ordinary)\n",
    "# decoration()"
   ]
  },
  {
   "cell_type": "code",
   "execution_count": 13,
   "metadata": {},
   "outputs": [
    {
     "name": "stdout",
     "output_type": "stream",
     "text": [
      "[2, 4, 6]\n"
     ]
    }
   ],
   "source": [
    "data = [1,2,3,4,5,6,7]\n",
    "data1 = list(filter(lambda x:x%2==0,data))\n",
    "print(data1)"
   ]
  },
  {
   "cell_type": "code",
   "execution_count": 7,
   "metadata": {},
   "outputs": [
    {
     "ename": "UnboundLocalError",
     "evalue": "cannot access local variable 'grade' where it is not associated with a value",
     "output_type": "error",
     "traceback": [
      "\u001b[1;31m---------------------------------------------------------------------------\u001b[0m",
      "\u001b[1;31mUnboundLocalError\u001b[0m                         Traceback (most recent call last)",
      "Cell \u001b[1;32mIn[7], line 13\u001b[0m\n\u001b[0;32m     10\u001b[0m     \u001b[38;5;28;01mreturn\u001b[39;00m(\u001b[38;5;124mf\u001b[39m\u001b[38;5;124m'\u001b[39m\u001b[38;5;124myour percentage is \u001b[39m\u001b[38;5;132;01m{\u001b[39;00mper\u001b[38;5;132;01m}\u001b[39;00m\u001b[38;5;124m and your grade is \u001b[39m\u001b[38;5;132;01m{\u001b[39;00mgrade\u001b[38;5;132;01m}\u001b[39;00m\u001b[38;5;124m'\u001b[39m)\n\u001b[0;32m     11\u001b[0m user_input\u001b[38;5;241m=\u001b[39m\u001b[38;5;28mint\u001b[39m(\u001b[38;5;28minput\u001b[39m(\u001b[38;5;124m'\u001b[39m\u001b[38;5;124mwhat is your percentage\u001b[39m\u001b[38;5;124m'\u001b[39m))\n\u001b[1;32m---> 13\u001b[0m result \u001b[38;5;241m=\u001b[39m percentage(user_input)\n\u001b[0;32m     14\u001b[0m \u001b[38;5;28mprint\u001b[39m(result)\n",
      "Cell \u001b[1;32mIn[7], line 10\u001b[0m, in \u001b[0;36mpercentage\u001b[1;34m(per)\u001b[0m\n\u001b[0;32m      8\u001b[0m \u001b[38;5;28;01melif\u001b[39;00m per\u001b[38;5;241m<\u001b[39m\u001b[38;5;241m50\u001b[39m \u001b[38;5;129;01mand\u001b[39;00m per\u001b[38;5;241m!=\u001b[39m\u001b[38;5;241m0\u001b[39m:\n\u001b[0;32m      9\u001b[0m     grade\u001b[38;5;241m=\u001b[39m\u001b[38;5;124m'\u001b[39m\u001b[38;5;124mfail\u001b[39m\u001b[38;5;124m'\u001b[39m\n\u001b[1;32m---> 10\u001b[0m \u001b[38;5;28;01mreturn\u001b[39;00m(\u001b[38;5;124mf\u001b[39m\u001b[38;5;124m'\u001b[39m\u001b[38;5;124myour percentage is \u001b[39m\u001b[38;5;132;01m{\u001b[39;00mper\u001b[38;5;132;01m}\u001b[39;00m\u001b[38;5;124m and your grade is \u001b[39m\u001b[38;5;132;01m{\u001b[39;00mgrade\u001b[38;5;132;01m}\u001b[39;00m\u001b[38;5;124m'\u001b[39m)\n",
      "\u001b[1;31mUnboundLocalError\u001b[0m: cannot access local variable 'grade' where it is not associated with a value"
     ]
    }
   ],
   "source": [
    "def percentage(per):\n",
    "    if per>=90:\n",
    "        grade='A+'\n",
    "    elif per>=70:\n",
    "        grade='A'\n",
    "    elif per>=50:\n",
    "        grade='B'\n",
    "    elif per<50 and per!=0:\n",
    "        grade='fail'\n",
    "    return(f'your percentage is {per} and your grade is {grade}')\n",
    "user_input=int(input('what is your percentage'))\n",
    "\n",
    "result = percentage(user_input)\n",
    "print(result)"
   ]
  },
  {
   "cell_type": "code",
   "execution_count": null,
   "metadata": {},
   "outputs": [],
   "source": [
    "# decorated  function\n",
    "def gen(func):\n",
    "    def inner(per):\n",
    "        print(\"execution started\")\n",
    "        return func(per)\n",
    "    return inner\n",
    "\n",
    "\n",
    "@gen\n",
    "def percentage(per):\n",
    "    grade=''\n",
    "    if per>=90:\n",
    "        grade='A+'\n",
    "    elif per>=70:\n",
    "        grade='A'\n",
    "    elif per>=50:\n",
    "        grade='B'\n",
    "    elif per<50 and per!=0:\n",
    "        grade='fail'\n",
    "    return(f'our percentage is {per} and your grade is {grade}')\n",
    "user_input=int(input('what is your percentage'))\n",
    "\n",
    "result = percentage(user_input)\n",
    "print(result)"
   ]
  },
  {
   "cell_type": "code",
   "execution_count": 5,
   "metadata": {},
   "outputs": [
    {
     "name": "stdout",
     "output_type": "stream",
     "text": [
      "{'artist': 'muhammad', 'album': 'mnian', 'date': 0}\n"
     ]
    }
   ],
   "source": [
    "from typing  import Dict\n",
    "def make_album(artist,title,date):\n",
    "    return {\n",
    "        'artist': artist,\n",
    "        'album' : title,\n",
    "        'date': date\n",
    "        }\n",
    "while True:\n",
    "    artist = input('your  artist name')\n",
    "    if artist.lower() == 'q':\n",
    "        break\n",
    "    title = input('what is the  title')\n",
    "    if  title.lower() == 'q':\n",
    "        break\n",
    "    date = int(input('what is the date of   january you are coming'))\n",
    "    if  date == 0:\n",
    "        break\n",
    "album = make_album(artist,title,date)\n",
    "print(album)\n"
   ]
  },
  {
   "cell_type": "code",
   "execution_count": 10,
   "metadata": {},
   "outputs": [
    {
     "name": "stdout",
     "output_type": "stream",
     "text": [
      "['what is your name', 'what are you   doing']\n"
     ]
    }
   ],
   "source": [
    "from typing import Union, Any\n",
    "any_type = Union[int,str,Any,float]\n",
    "short_msg : list[any_type] = ['what is your name','what are you   doing']\n",
    "def show_messages(short_msg):\n",
    "    return  short_msg\n",
    "print(short_msg)"
   ]
  },
  {
   "cell_type": "code",
   "execution_count": 21,
   "metadata": {},
   "outputs": [
    {
     "name": "stdout",
     "output_type": "stream",
     "text": [
      "['what is your name', 'what are you   doing']\n"
     ]
    }
   ],
   "source": [
    "from typing import Union, Any\n",
    "any_type = Union[int,str,Any,float]\n",
    "short_msg : list[any_type] = ['what is your name','what are you   doing']\n",
    "def show_messages(short_msg):\n",
    "    return  short_msg\n",
    "show_messages(short_msg)\n",
    "def send_messages(short_msg):\n",
    "    return short_msg\n",
    "send_messages(short_msg)\n",
    "sent_messages : list[any_type] = send_messages(short_msg)\n",
    "print(sent_messages)"
   ]
  },
  {
   "cell_type": "markdown",
   "metadata": {},
   "source": [
    "## page 181 should be studied tomorrow"
   ]
  },
  {
   "cell_type": "code",
   "execution_count": 4,
   "metadata": {},
   "outputs": [
    {
     "name": "stdout",
     "output_type": "stream",
     "text": [
      "Ali\n",
      "Mina\n",
      "Ishmal\n"
     ]
    }
   ],
   "source": [
    "def great_warrior(fucking):\n",
    "    for name in fucking:\n",
    "        msg = name.title()\n",
    "        print(msg)\n",
    "user_name = ['ali','mina','ishmal']\n",
    "great_warrior(user_name)\n"
   ]
  },
  {
   "cell_type": "code",
   "execution_count": 5,
   "metadata": {},
   "outputs": [
    {
     "name": "stdout",
     "output_type": "stream",
     "text": [
      "Printing model: dodecahedron\n",
      "Printing model: robot pendant\n",
      "Printing model: phone case\n",
      "\n",
      "The following models have been printed:\n",
      "dodecahedron\n",
      "robot pendant\n",
      "phone case\n"
     ]
    }
   ],
   "source": [
    "unprinted_designs = ['phone case', 'robot pendant', 'dodecahedron']\n",
    "completed_models = []\n",
    "# Simulate printing each design, until none are left.\n",
    "# Move each design to completed_models after printing.\n",
    "while unprinted_designs:\n",
    "    current_design = unprinted_designs.pop()\n",
    "    print(f\"Printing model: {current_design}\")\n",
    "    completed_models.append(current_design)\n",
    " \n",
    "# Display all completed models.\n",
    "print(\"\\nThe following models have been printed:\")\n",
    "for completed_model in completed_models:\n",
    "    print(completed_model)"
   ]
  },
  {
   "cell_type": "code",
   "execution_count": 14,
   "metadata": {},
   "outputs": [
    {
     "name": "stdout",
     "output_type": "stream",
     "text": [
      "printing models: ishmal\n",
      "printing models: love\n",
      "printing models: phone\n",
      "the following models have been printed\n",
      "ishmal\n",
      "love\n",
      "phone\n"
     ]
    }
   ],
   "source": [
    "def print_models(unprinted_designs,completed_models):\n",
    "    while unprinted_designs:\n",
    "        current_designs = unprinted_designs.pop()\n",
    "        print(f\"printing models: {current_designs}\")\n",
    "        completed_models.append(current_designs)\n",
    "def show_completed_models(completed_models):\n",
    "    print('the following models have been printed')\n",
    "    for completed_model in completed_models:\n",
    "        print(completed_model)\n",
    "unprinted_designs = ['phone','love','ishmal']\n",
    "completed_models = []\n",
    "print_models(unprinted_designs,completed_models)\n",
    "show_completed_models(completed_models)\n"
   ]
  },
  {
   "cell_type": "code",
   "execution_count": 17,
   "metadata": {},
   "outputs": [
    {
     "name": "stdout",
     "output_type": "stream",
     "text": [
      "hi\n",
      "ishmal\n",
      "how you doing\n",
      "do you wanna hang out\n"
     ]
    }
   ],
   "source": [
    "messages = ['hi','ishmal','how you doing','do you wanna hang out']\n",
    "def show_messages(mesage):\n",
    "    for msg in mesage:\n",
    "        print(msg)\n",
    "show_messages(messages)"
   ]
  },
  {
   "cell_type": "code",
   "execution_count": 18,
   "metadata": {},
   "outputs": [
    {
     "name": "stdout",
     "output_type": "stream",
     "text": [
      "hi\n",
      "ishmal\n",
      "how you doing\n",
      "do you wanna hang out\n",
      "hi\n",
      "ishmal\n",
      "how you doing\n",
      "do you wanna hang out\n",
      "['hi', 'ishmal', 'how you doing', 'do you wanna hang out']\n",
      "sent_messages : ['hi', 'ishmal', 'how you doing', 'do you wanna hang out']\n"
     ]
    }
   ],
   "source": [
    "messages = ['hi','ishmal','how you doing','do you wanna hang out']\n",
    "def show_messages(mesage):\n",
    "    for msg in mesage:\n",
    "        print(msg)\n",
    "show_messages(messages)\n",
    "def send_messages(the_message):\n",
    "    for msge in the_message:\n",
    "        sent_messages.append(msge)\n",
    "        print(msge)\n",
    "sent_messages= []\n",
    "send_messages(messages)\n",
    "print(messages)\n",
    "print(f\"sent_messages : {sent_messages}\")"
   ]
  },
  {
   "cell_type": "code",
   "execution_count": 19,
   "metadata": {},
   "outputs": [
    {
     "name": "stdout",
     "output_type": "stream",
     "text": [
      "hi\n",
      "ishmal\n",
      "how you doing\n",
      "do you wanna hang out\n",
      "hi\n",
      "ishmal\n",
      "how you doing\n",
      "do you wanna hang out\n",
      "['hi', 'ishmal', 'how you doing', 'do you wanna hang out']\n",
      "sent_messages : ['hi', 'ishmal', 'how you doing', 'do you wanna hang out']\n"
     ]
    }
   ],
   "source": [
    "messages = ['hi','ishmal','how you doing','do you wanna hang out']\n",
    "messages1 = messages.copy()\n",
    "def show_messages(mesage):\n",
    "    for msg in mesage:\n",
    "        print(msg)\n",
    "show_messages(messages)\n",
    "def send_messages(the_message):\n",
    "    for msge in the_message:\n",
    "        sent_messages.append(msge)\n",
    "        print(msge)\n",
    "sent_messages= []\n",
    "send_messages(messages1)\n",
    "print(messages)\n",
    "print(f\"sent_messages : {sent_messages}\")"
   ]
  },
  {
   "cell_type": "code",
   "execution_count": 20,
   "metadata": {},
   "outputs": [
    {
     "name": "stdout",
     "output_type": "stream",
     "text": [
      "('anc', 'gyc')\n",
      "('chichken', 'beaf', 'mutton')\n",
      "('heky', 'repson', 'kintyer')\n"
     ]
    }
   ],
   "source": [
    "def list_sandwitch(*sanwitch):\n",
    "    print(sanwitch)\n",
    "list_sandwitch('anc','gyc')\n",
    "list_sandwitch('chichken','beaf','mutton')\n",
    "list_sandwitch('heky','repson','kintyer')"
   ]
  },
  {
   "cell_type": "code",
   "execution_count": 21,
   "metadata": {},
   "outputs": [
    {
     "name": "stdout",
     "output_type": "stream",
     "text": [
      "{'last_name': 'muhmmad', 'first_name': 'mian', 'love': 'ishmal'}\n"
     ]
    }
   ],
   "source": [
    "def build_profile(**portfolio):\n",
    "    print(portfolio)\n",
    "build_profile(last_name='muhmmad',first_name = 'mian', love = 'ishmal' )"
   ]
  },
  {
   "cell_type": "code",
   "execution_count": 25,
   "metadata": {},
   "outputs": [
    {
     "name": "stdout",
     "output_type": "stream",
     "text": [
      "{'car_name': 'ferrari', 'model': 'ferrari la ferrai 2019', 'HP': 500}\n"
     ]
    }
   ],
   "source": [
    "def car(**car_info):\n",
    "    return car_info\n",
    "result = car(car_name = 'ferrari', model = 'ferrari la ferrari 2019', HP = 500)\n",
    "print(result)"
   ]
  },
  {
   "cell_type": "code",
   "execution_count": 29,
   "metadata": {},
   "outputs": [
    {
     "data": {
      "text/plain": [
       "<generator object car at 0x00000231E46BCC70>"
      ]
     },
     "execution_count": 29,
     "metadata": {},
     "output_type": "execute_result"
    }
   ],
   "source": [
    "def car( info , model):\n",
    "    yield car\n",
    "    print(info)\n",
    "car('ferrari','la ferrari')\n"
   ]
  },
  {
   "cell_type": "code",
   "execution_count": 31,
   "metadata": {},
   "outputs": [
    {
     "name": "stdout",
     "output_type": "stream",
     "text": [
      "that is great\n"
     ]
    },
    {
     "data": {
      "text/plain": [
       "'the best life'"
      ]
     },
     "execution_count": 31,
     "metadata": {},
     "output_type": "execute_result"
    }
   ],
   "source": [
    "def ali(func):\n",
    "    def inner(acc):\n",
    "        print('that is great')\n",
    "        return func(acc)\n",
    "    return inner\n",
    "\n",
    "@ali\n",
    "def wao(acc):\n",
    "    return acc\n",
    "wao('the best life')"
   ]
  },
  {
   "cell_type": "markdown",
   "metadata": {},
   "source": [
    "Recursion function"
   ]
  },
  {
   "cell_type": "code",
   "execution_count": null,
   "metadata": {},
   "outputs": [],
   "source": [
    "def factorial(n):\n",
    "    if n == 1 or n == 0:\n",
    "        return 1\n",
    "    else:\n",
    "        return n * factorial(n-1)  \n",
    "\n",
    "ali = factorial(10)\n",
    "print(ali) "
   ]
  }
 ],
 "metadata": {
  "kernelspec": {
   "display_name": "Python12==3.12",
   "language": "python",
   "name": "python3"
  },
  "language_info": {
   "codemirror_mode": {
    "name": "ipython",
    "version": 3
   },
   "file_extension": ".py",
   "mimetype": "text/x-python",
   "name": "python",
   "nbconvert_exporter": "python",
   "pygments_lexer": "ipython3",
   "version": "3.12.4"
  }
 },
 "nbformat": 4,
 "nbformat_minor": 2
}
