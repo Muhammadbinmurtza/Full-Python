{
 "cells": [
  {
   "cell_type": "markdown",
   "metadata": {},
   "source": [
    "LIST"
   ]
  },
  {
   "cell_type": "code",
   "execution_count": 2,
   "metadata": {},
   "outputs": [
    {
     "name": "stdout",
     "output_type": "stream",
     "text": [
      "ali\n"
     ]
    }
   ],
   "source": [
    "print(\"ali\")"
   ]
  },
  {
   "cell_type": "code",
   "execution_count": 4,
   "metadata": {},
   "outputs": [
    {
     "name": "stdout",
     "output_type": "stream",
     "text": [
      "qasim\n",
      "sir zia\n",
      "qasim\n"
     ]
    }
   ],
   "source": [
    "# OLD  WAY\n",
    "#         0         1           2\n",
    "names = [\"qasim\", \"sir zia\",  \"muhammad\"]\n",
    "#           -3        -2          -1\n",
    "# in indexing from negative there is no zero means from  right to left\n",
    "print(names[0])\n",
    "print(names[-2])\n",
    "print(names[-3])"
   ]
  },
  {
   "cell_type": "code",
   "execution_count": 11,
   "metadata": {},
   "outputs": [
    {
     "name": "stdout",
     "output_type": "stream",
     "text": [
      " A 22 years old millionaire: muhammad bin Murtiza\n",
      "<class 'list'>\n",
      "<class 'str'>\n"
     ]
    }
   ],
   "source": [
    "# NEW WAY\n",
    "from typing import Any\n",
    "#                       0          1            2\n",
    "names : list[any] = [\"muhammad bin Murtiza\", \"abdullah\", \"mian sb\"]\n",
    "#                        -3           -2         -1\n",
    "print(f\" A 22 years old millionaire: {names[-3]}\")\n",
    "print(type(names))\n",
    "print(type(names[-2]))"
   ]
  },
  {
   "cell_type": "code",
   "execution_count": 12,
   "metadata": {},
   "outputs": [
    {
     "name": "stdout",
     "output_type": "stream",
     "text": [
      "['a', 'b', 'c', 'd', 'e', 'f', 'g', 'h', 'i', 'j', 'k', 'l', 'm', 'n', 'o', 'p', 'q', 'r', 's', 't', 'u', 'v', 'w', 'x', 'y', 'z']\n"
     ]
    }
   ],
   "source": [
    "chr : list[str] = list(\"abcdefghijklmnopqrstuvwxyz\")\n",
    "print(chr)\n",
    "# list itrated the chracters  of abcdef..."
   ]
  },
  {
   "cell_type": "markdown",
   "metadata": {},
   "source": [
    "SLICING\n",
    "* variable 'names[start:end:step]'\n",
    " *  start : int  = include\n",
    " *   end : int = n-1\n",
    " *   step :  int = sequence\n"
   ]
  },
  {
   "cell_type": "code",
   "execution_count": 24,
   "metadata": {},
   "outputs": [
    {
     "name": "stdout",
     "output_type": "stream",
     "text": [
      "['a', 'b']\n",
      "['a', 'b']\n",
      "['a', 'b']\n",
      "['e', 'h', 'k', 'n']\n",
      "['a', 'c', 'e', 'g', 'i', 'k']\n"
     ]
    }
   ],
   "source": [
    "# default slicing go from left  to right\n",
    "chracters : list[str] = ['a', 'b', 'c', 'd', 'e', 'f', 'g', 'h', 'i', 'j', 'k', 'l', 'm', 'n', 'o', 'p', 'q', 'r', 's', 't', 'u', 'v', 'w', 'x', 'y', 'z']\n",
    "print(chracters[0:2])  # 0 = include : index 2-1 = 1\n",
    "print(chracters[:2]) # not pass  any number = all or from start\n",
    "print(chracters[-26:-24])   # 0 = include : index -24-1 = -25\n",
    "print(chracters[4:-11])\n",
    "print(chracters[0:12])"
   ]
  },
  {
   "cell_type": "code",
   "execution_count": 27,
   "metadata": {},
   "outputs": [
    {
     "name": "stdout",
     "output_type": "stream",
     "text": [
      "['b', 'c', 'd', 'e']\n",
      "[]\n"
     ]
    }
   ],
   "source": [
    "chracters : list[str] = ['a', 'b', 'c', 'd', 'e', 'f', 'g', 'h']\n",
    "print(chracters[1:-3]) # -3 will be on  f   and after removing 1  it will  on the \"e\"\n",
    "print(chracters[-1:-5])"
   ]
  },
  {
   "cell_type": "code",
   "execution_count": 28,
   "metadata": {},
   "outputs": [
    {
     "name": "stdout",
     "output_type": "stream",
     "text": [
      "['b', 'c', 'd', 'e']\n",
      "['h', 'g', 'f', 'e']\n"
     ]
    }
   ],
   "source": [
    "chracters : list[str] = ['a', 'b', 'c', 'd', 'e', 'f', 'g', 'h']\n",
    "print(chracters[1:-3]) # -3 will be on  f   and after removing 1  it will  on the \"e\"\n",
    "print(chracters[-1:-5:-1])\n",
    "#  the step in (-) will reverse the direction of process"
   ]
  },
  {
   "cell_type": "code",
   "execution_count": 25,
   "metadata": {},
   "outputs": [
    {
     "name": "stdout",
     "output_type": "stream",
     "text": [
      "['a', 'c', 'e', 'g', 'i', 'k', 'm', 'o', 'q', 's', 'u', 'w', 'y']\n"
     ]
    }
   ],
   "source": [
    "# step =  sequence it means sequence that which variables or names to include\n",
    "chracters : list[str] = ['a', 'b', 'c', 'd', 'e', 'f', 'g', 'h', 'i', 'j', 'k', 'l', 'm', 'n', 'o', 'p', 'q', 'r', 's', 't', 'u', 'v', 'w', 'x', 'y', 'z']\n",
    "print(chracters[::2])\n",
    "# now it will stand on \"a\" and go to second letter which is \"c\" and print so again that step from \"C\"\n",
    "# if we putt (-1) it will  start from right to left means it will reverse\n"
   ]
  },
  {
   "cell_type": "markdown",
   "metadata": {},
   "source": [
    "WORK"
   ]
  },
  {
   "cell_type": "code",
   "execution_count": 29,
   "metadata": {},
   "outputs": [
    {
     "name": "stdout",
     "output_type": "stream",
     "text": [
      "UMAR\n",
      "TALHA\n",
      "ARHAM\n",
      "TALHA\n",
      " you are a great man: UMAR\n",
      "I would like to own a Honda motorcycle:UMAR\n"
     ]
    }
   ],
   "source": [
    "friends : list[str] = [\"umar\", \"talha\",\"arham\"]\n",
    "print(friends[0].upper())\n",
    "print(friends[1].upper())\n",
    "print(friends[2].upper())\n",
    "print(friends[-2].upper())\n",
    "print(f\"\"\" you are a great man: {friends[0].upper()}\"\"\")\n",
    "print(f\"I would like to own a Honda motorcycle:{friends[-3].upper()}\")"
   ]
  },
  {
   "cell_type": "code",
   "execution_count": 2,
   "metadata": {},
   "outputs": [
    {
     "name": "stdout",
     "output_type": "stream",
     "text": [
      "['a', 'b', 'c', 'e', 'k', 'a', 'e', 'i', 'u', 'g', 'h', 'u', 'e', 'b', 'g', 'u', 's', 'r', 'b']\n"
     ]
    }
   ],
   "source": [
    "chr : list[str] = list(\"abcekaeiughuebgusrb\")\n",
    "print(chr)"
   ]
  },
  {
   "cell_type": "code",
   "execution_count": 3,
   "metadata": {},
   "outputs": [
    {
     "name": "stdout",
     "output_type": "stream",
     "text": [
      "['b', 'r', 's', 'u']\n"
     ]
    }
   ],
   "source": [
    "chr : list[str] = ['a', 'b', 'c', 'e', 'k', 'a', 'e', 'i', 'u', 'g', 'h', 'u', 'e', 'b', 'g', 'u', 's', 'r', 'b']\n",
    "print(chr[-1:-5:-1])"
   ]
  },
  {
   "cell_type": "code",
   "execution_count": 4,
   "metadata": {},
   "outputs": [
    {
     "name": "stdout",
     "output_type": "stream",
     "text": [
      "['b', 's']\n"
     ]
    }
   ],
   "source": [
    "chr : list[str] = ['a', 'b', 'c', 'e', 'k', 'a', 'e', 'i', 'u', 'g', 'h', 'u', 'e', 'b', 'g', 'u', 's', 'r', 'b']\n",
    "print(chr[-1:-5:-2])"
   ]
  },
  {
   "cell_type": "code",
   "execution_count": 6,
   "metadata": {},
   "outputs": [
    {
     "name": "stdout",
     "output_type": "stream",
     "text": [
      "['b', 'u', 'e', 'g']\n"
     ]
    }
   ],
   "source": [
    "chr : list[str] = ['a', 'b', 'c', 'e', 'k', 'a', 'e', 'i', 'u', 'g', 'h', 'u', 'e', 'b', 'g', 'u', 's', 'r', 'b']\n",
    "print(chr[-1:-11:-3])"
   ]
  },
  {
   "cell_type": "markdown",
   "metadata": {},
   "source": [
    "LIST METHODS"
   ]
  },
  {
   "cell_type": "code",
   "execution_count": 8,
   "metadata": {},
   "outputs": [
    {
     "name": "stdout",
     "output_type": "stream",
     "text": [
      "['muhammad', 'abdullah', 'ali', 'mian']\n",
      "['abdullah', 'ali', 'mian']\n"
     ]
    }
   ],
   "source": [
    "names : list[str]  = [\"muhammad\",\"qasim\", \"ali\", \"mian\"]\n",
    "names[1] = \"abdullah\"\n",
    "print(names)\n",
    "del names[0]\n",
    "print(names)\n",
    "#del will delete the  value"
   ]
  },
  {
   "cell_type": "code",
   "execution_count": null,
   "metadata": {},
   "outputs": [],
   "source": [
    "#  return always gives a value : to chk if we call  var and it gives value it means this return function like id(var name)"
   ]
  },
  {
   "cell_type": "markdown",
   "metadata": {},
   "source": [
    "LIST METHODS"
   ]
  },
  {
   "cell_type": "markdown",
   "metadata": {},
   "source": [
    "#  HELP\n",
    "* help(object)\n",
    "* object?\n",
    "* object??\n",
    "* ??object"
   ]
  },
  {
   "cell_type": "code",
   "execution_count": 9,
   "metadata": {},
   "outputs": [
    {
     "name": "stdout",
     "output_type": "stream",
     "text": [
      "\u001b[1;31mSignature:\u001b[0m \u001b[0mprint\u001b[0m\u001b[1;33m(\u001b[0m\u001b[1;33m*\u001b[0m\u001b[0margs\u001b[0m\u001b[1;33m,\u001b[0m \u001b[0msep\u001b[0m\u001b[1;33m=\u001b[0m\u001b[1;34m' '\u001b[0m\u001b[1;33m,\u001b[0m \u001b[0mend\u001b[0m\u001b[1;33m=\u001b[0m\u001b[1;34m'\\n'\u001b[0m\u001b[1;33m,\u001b[0m \u001b[0mfile\u001b[0m\u001b[1;33m=\u001b[0m\u001b[1;32mNone\u001b[0m\u001b[1;33m,\u001b[0m \u001b[0mflush\u001b[0m\u001b[1;33m=\u001b[0m\u001b[1;32mFalse\u001b[0m\u001b[1;33m)\u001b[0m\u001b[1;33m\u001b[0m\u001b[1;33m\u001b[0m\u001b[0m\n",
      "\u001b[1;31mDocstring:\u001b[0m\n",
      "Prints the values to a stream, or to sys.stdout by default.\n",
      "\n",
      "sep\n",
      "  string inserted between values, default a space.\n",
      "end\n",
      "  string appended after the last value, default a newline.\n",
      "file\n",
      "  a file-like object (stream); defaults to the current sys.stdout.\n",
      "flush\n",
      "  whether to forcibly flush the stream.\n",
      "\u001b[1;31mType:\u001b[0m      builtin_function_or_method"
     ]
    }
   ],
   "source": [
    "print?\n"
   ]
  },
  {
   "cell_type": "code",
   "execution_count": 12,
   "metadata": {},
   "outputs": [
    {
     "name": "stdout",
     "output_type": "stream",
     "text": [
      "['muhammad', 'qasim']\n"
     ]
    }
   ],
   "source": [
    "# POP          * Pop will delete the value from list from the last\n",
    "names : list[str]  = [\"muhammad\",\"qasim\", \"ali\", \"mian\"]\n",
    "a : str = names.pop()\n",
    "b : str = names.pop(2)\n",
    "print(names)\n",
    "# the value \"a\" is storing the  deleted  value\n",
    "# we can also remove any value using pop with the help of index by simply putting index like names.pop(2)"
   ]
  },
  {
   "cell_type": "code",
   "execution_count": 14,
   "metadata": {},
   "outputs": [
    {
     "name": "stdout",
     "output_type": "stream",
     "text": [
      "['mian sb', 'an sb', 'bx sb', 'bv sb']\n"
     ]
    }
   ],
   "source": [
    "names : list[str]  = []\n",
    "names.append(\"mian sb\")\n",
    "names.append(\"an sb\")\n",
    "names.append(\"bx sb\")\n",
    "names.append(\"bv sb\")\n",
    "print(names)\n",
    "# append method add values in the last\n"
   ]
  },
  {
   "cell_type": "code",
   "execution_count": 16,
   "metadata": {},
   "outputs": [
    {
     "name": "stdout",
     "output_type": "stream",
     "text": [
      "['ali']\n"
     ]
    }
   ],
   "source": [
    "name: list[str]  = []\n",
    "name.append(\"ali\")\n",
    "print(name)\n",
    "# append always adds value in the last"
   ]
  },
  {
   "cell_type": "code",
   "execution_count": 24,
   "metadata": {},
   "outputs": [
    {
     "name": "stdout",
     "output_type": "stream",
     "text": [
      "['muhammad', 'qasim', 'ali', 'wao', 'mian']\n"
     ]
    }
   ],
   "source": [
    "# INSERT METHOD       * it will insert the value at any place unlike \"append\"\n",
    "names : list[str]  = [\"muhammad\",\"qasim\", \"ali\", \"mian\"]\n",
    "names.insert(3,\"wao\")\n",
    "print(names)"
   ]
  },
  {
   "cell_type": "code",
   "execution_count": 18,
   "metadata": {},
   "outputs": [
    {
     "name": "stdout",
     "output_type": "stream",
     "text": [
      "[]\n"
     ]
    }
   ],
   "source": [
    "# clear   * clear will clear all the data\n",
    "names : list[str]  = [\"muhammad\",\"qasim\", \"ali\", \"mian\"]\n",
    "names.clear()\n",
    "print(names)"
   ]
  },
  {
   "cell_type": "code",
   "execution_count": 28,
   "metadata": {},
   "outputs": [
    {
     "name": "stdout",
     "output_type": "stream",
     "text": [
      "['a', 'b', 'c']\n",
      "['a', 'b', 'c']\n",
      "['pakistan', 'b', 'c']\n",
      "['pakistan', 'b', 'c']\n",
      "['a', 'b', 'c']\n",
      "['a', 'b', 'c']\n",
      "['a', 'b', 'c']\n",
      "['pakistan', 'b', 'c']\n"
     ]
    }
   ],
   "source": [
    "a : list[str] = ['a','b','c']\n",
    "b = a\n",
    "print(a)\n",
    "print(b)\n",
    "# but now if we change the index  value of \"b\" it will  also change the value of \"a\"\n",
    "b[0] = \"pakistan\"\n",
    "print(a)\n",
    "print(b)\n",
    "# to solve this problem we will use (.copy) while assigning value of \"a\" to \"b\"\n",
    "# like this\n",
    "a : list[str] = ['a','b','c']\n",
    "b = a.copy()\n",
    "print(a)\n",
    "print(b)\n",
    "b[0] = \"pakistan\"\n",
    "print(a)\n",
    "print(b)"
   ]
  },
  {
   "cell_type": "code",
   "execution_count": 31,
   "metadata": {},
   "outputs": [
    {
     "name": "stdout",
     "output_type": "stream",
     "text": [
      "1\n",
      "2\n"
     ]
    }
   ],
   "source": [
    "# count\n",
    "a : list[str] = ['a', 'b','c','a']\n",
    "print(a.count(\"c\"))\n",
    "print(a.count(\"a\"))"
   ]
  },
  {
   "cell_type": "code",
   "execution_count": 36,
   "metadata": {},
   "outputs": [
    {
     "name": "stdout",
     "output_type": "stream",
     "text": [
      "['muhammad', 'qasim', 'ali', 'mian']\n",
      "['muhammad', 'qasim', 'ali', 'mian', 'sir zia', 'sir qasim']\n"
     ]
    }
   ],
   "source": [
    "# EXTEND\n",
    "names : list[str]  = [\"muhammad\",\"qasim\", \"ali\", \"mian\"]\n",
    "new_faculty_members : list[str] = ['sir zia','sir qasim']\n",
    "# names.append(new_faculty_members)  this is the code part\n",
    "print(names)\n",
    "# you will  see that with \"append \" function the names are getting \"new_faculty_members\" as list \n",
    "# here is the solution\n",
    "names.extend(new_faculty_members)\n",
    "print(names)\n",
    "# now you will see the \"new_faculty_members\"  are added like just the names not as list"
   ]
  },
  {
   "cell_type": "code",
   "execution_count": 37,
   "metadata": {},
   "outputs": [
    {
     "name": "stdout",
     "output_type": "stream",
     "text": [
      "['qasim', 'ali', 'mian']\n"
     ]
    }
   ],
   "source": [
    "# REMOVE      : it is just like pop  but it removes the value with the text \n",
    "names : list[str]  = [\"muhammad\",\"qasim\", \"ali\", \"mian\"]\n",
    "names.remove(\"muhammad\") # removes with text\n",
    "print(names)"
   ]
  },
  {
   "cell_type": "code",
   "execution_count": 40,
   "metadata": {},
   "outputs": [
    {
     "name": "stdout",
     "output_type": "stream",
     "text": [
      "0\n",
      "4\n"
     ]
    }
   ],
   "source": [
    "# INDEX     * use  to find the index\n",
    "names : list[str]  = [\"muhammad\",\"qasim\", \"ali\", \"mian\",\"muhammad\"]\n",
    "print(names.index(\"muhammad\"))\n",
    "print(names.index(\"muhammad\",1))\n",
    "# after the text the index tells that start from this index"
   ]
  },
  {
   "cell_type": "code",
   "execution_count": 43,
   "metadata": {},
   "outputs": [
    {
     "name": "stdout",
     "output_type": "stream",
     "text": [
      "['muhammad', 'qasim', 'ali', 'mian', 'muhammad']\n",
      "['muhammad', 'mian', 'ali', 'qasim', 'muhammad']\n",
      "['muhammad', 'mian', 'ali', 'aefkjbewhg', 'qasim', 'muhammad']\n"
     ]
    }
   ],
   "source": [
    "names : list[str]  = [\"muhammad\",\"qasim\", \"ali\", \"mian\",\"muhammad\"]\n",
    "print(names)\n",
    "names.reverse()\n",
    "print(names) # in-memory = change real data\n",
    "# reverse changed  the real data \n",
    "names.insert(3,\"aefkjbewhg\")\n",
    "print(names)"
   ]
  },
  {
   "cell_type": "code",
   "execution_count": 4,
   "metadata": {},
   "outputs": [
    {
     "name": "stdout",
     "output_type": "stream",
     "text": [
      "['A', 'C', 'B', 'E', 'D', 'F', 'H', 'G']\n",
      "['A', 'B', 'C', 'D', 'E', 'F', 'G', 'H']\n"
     ]
    }
   ],
   "source": [
    "# SORT    * it changes data  according to assecnding format\n",
    "names : list[str]  = list(\"ACBEDFHG\")\n",
    "print(names)\n",
    "names.sort() \n",
    "print(names)"
   ]
  },
  {
   "cell_type": "code",
   "execution_count": 5,
   "metadata": {},
   "outputs": [
    {
     "name": "stdout",
     "output_type": "stream",
     "text": [
      "['A', 'C', 'B', 'E', 'D', 'F', 'H', 'G']\n",
      "['H', 'G', 'F', 'E', 'D', 'C', 'B', 'A']\n"
     ]
    }
   ],
   "source": [
    "names : list[str]  = list(\"ACBEDFHG\")\n",
    "print(names)\n",
    "names.sort(reverse=True) \n",
    "print(names)\n",
    "# if we putt (reverse = true ) in SORT it will show the data in descending format "
   ]
  },
  {
   "cell_type": "markdown",
   "metadata": {},
   "source": [
    "THE ASSIGNMENT"
   ]
  },
  {
   "cell_type": "code",
   "execution_count": 28,
   "metadata": {},
   "outputs": [
    {
     "name": "stdout",
     "output_type": "stream",
     "text": [
      "talha can you please come to the party\n",
      "umar can you please come to the party\n",
      "numan can you please come to the party\n",
      "['talha', 'umar', 'arham']\n",
      "talha can you please come to the party\n",
      "umar can you please come to the party\n",
      "arham can you please come to the party\n",
      "['farhan', 'talha', 'abdullah', 'umar', 'arham', 'ali']\n",
      "farhan can you please come to the party\n",
      "talha can you please come to the party\n",
      "abdullah can you please come to the party\n",
      "umar can you please come to the party\n",
      "arham can you please come to the party\n",
      "ali can you please come to the party\n",
      "my table of dinner cannot arrive at the time so i can only invite 2 friends\n",
      "i am sorry ali,  we short table so you cant come\n",
      "i am sorry arham,  we short table so you cant come\n",
      "i am sorry umar,  we short table so you cant come\n",
      "i am sorry abdullah,  we short table so you cant come\n",
      "['farhan', 'talha']\n",
      "['talha']\n",
      "[]\n"
     ]
    }
   ],
   "source": [
    "#page 80 and 81 on the methew book for python\n",
    "friends : list[str] = ['talha','umar','numan']\n",
    "print(friends[0],\"can you please come to the party\")\n",
    "print(friends[1],\"can you please come to the party\")\n",
    "print(friends[2],\"can you please come to the party\")\n",
    "del  friends[2]\n",
    "friends.insert(2,\"arham\")\n",
    "print(friends)\n",
    "print(friends[0],\"can you please come to the party\")\n",
    "print(friends[1],\"can you please come to the party\")\n",
    "print(friends[2],\"can you please come to the party\")\n",
    "friends.insert(0,\"farhan\")\n",
    "friends.insert(2,\"abdullah\")\n",
    "friends.append(\"ali\")\n",
    "print(friends)\n",
    "print(friends[0],\"can you please come to the party\")\n",
    "print(friends[1],\"can you please come to the party\")\n",
    "print(friends[2],\"can you please come to the party\")\n",
    "print(friends[3],\"can you please come to the party\")\n",
    "print(friends[4],\"can you please come to the party\")\n",
    "print(friends[5],\"can you please come to the party\")\n",
    "print(\"my table of dinner cannot arrive at the time so i can only invite 2 friends\")\n",
    "friends.pop()\n",
    "print(\"i am sorry ali,  we short table so you cant come\")\n",
    "friends.pop()\n",
    "print(\"i am sorry arham,  we short table so you cant come\")\n",
    "friends.pop()\n",
    "print(\"i am sorry umar,  we short table so you cant come\")\n",
    "friends.pop()\n",
    "print(\"i am sorry abdullah,  we short table so you cant come\")\n",
    "print(friends)\n",
    "del friends[0]\n",
    "print(friends)\n",
    "del friends[0]\n",
    "print(friends)\n"
   ]
  },
  {
   "cell_type": "markdown",
   "metadata": {},
   "source": [
    "2nd ASSIGNMENT"
   ]
  },
  {
   "cell_type": "code",
   "execution_count": 41,
   "metadata": {},
   "outputs": [
    {
     "name": "stdout",
     "output_type": "stream",
     "text": [
      "['astore', 'faroe island', 'maldives', 'new  york', 'switzerland']\n",
      "['astore', 'faroe island', 'maldives', 'new  york', 'switzerland']\n",
      "['maldives', 'new  york', 'faroe island', 'switzerland', 'astore']\n",
      "['astore', 'switzerland', 'faroe island', 'new  york', 'maldives']\n",
      "['astore', 'faroe island', 'maldives', 'new  york', 'switzerland']\n",
      "['switzerland', 'new  york', 'maldives', 'faroe island', 'astore']\n"
     ]
    }
   ],
   "source": [
    "places : list[str] = ['astore','switzerland','faroe island', 'new  york', 'maldives']\n",
    "print(sorted(places)) \n",
    "print(sorted(places))\n",
    "places.reverse()\n",
    "print(places)\n",
    "places.reverse()\n",
    "print(places)\n",
    "places.sort()\n",
    "print(places)\n",
    "places.sort(reverse=True)\n",
    "print(places)"
   ]
  },
  {
   "cell_type": "code",
   "execution_count": 5,
   "metadata": {},
   "outputs": [
    {
     "name": "stdout",
     "output_type": "stream",
     "text": [
      "your grade is A+\n"
     ]
    }
   ],
   "source": [
    "total_numbers : int = 1100\n",
    "obtained : int = int(input(\"please tell your numbers\"))\n",
    "percentage : float = (obtained * 100) / total_numbers\n",
    "if percentage >= 90 and percentage<=100:\n",
    "    print(\"your grade is A+\")\n",
    "elif percentage >= 70 and percentage<=100:\n",
    "    print(\"your grade is A\")\n",
    "else:\n",
    "    print(\"man you are fucked\")\n",
    "\n"
   ]
  }
 ],
 "metadata": {
  "kernelspec": {
   "display_name": "Python13",
   "language": "python",
   "name": "python3"
  },
  "language_info": {
   "codemirror_mode": {
    "name": "ipython",
    "version": 3
   },
   "file_extension": ".py",
   "mimetype": "text/x-python",
   "name": "python",
   "nbconvert_exporter": "python",
   "pygments_lexer": "ipython3",
   "version": "3.12.4"
  }
 },
 "nbformat": 4,
 "nbformat_minor": 2
}
