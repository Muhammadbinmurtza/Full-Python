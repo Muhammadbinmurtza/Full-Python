{
 "cells": [
  {
   "cell_type": "markdown",
   "metadata": {},
   "source": [
    "1 to many inheritance"
   ]
  },
  {
   "cell_type": "code",
   "execution_count": 2,
   "metadata": {},
   "outputs": [
    {
     "name": "stdout",
     "output_type": "stream",
     "text": [
      "the objects height is: blue\n",
      "the muhammad height is : 5.7 feet\n",
      "the words spoken by his mother were : mithu\n"
     ]
    }
   ],
   "source": [
    "class Mother:\n",
    "    def __init__(self, name:str) -> None:\n",
    "        self.name : str = name\n",
    "        self.eyecolor :str = \"blue\"\n",
    "    def speaking(self, words : str) -> str:\n",
    "        return f\"the words spoken by his mother were : {words}\"\n",
    "\n",
    "class Father:\n",
    "    def __init__(self, name : str) -> None:\n",
    "        self.name : str = name\n",
    "        self.height : str = \"5.7 feet\"\n",
    "\n",
    "class Child(Mother,Father):\n",
    "    def __init__(self, mother_name: str, father_name : str, child_name : str) -> None:\n",
    "        Mother.__init__(self, mother_name)\n",
    "        Father.__init__(self, father_name)\n",
    "        self.child_name = child_name\n",
    "\n",
    "Muhammad : Child = Child(\"naeema yaqoob\",\"Ghulam Murtza\",\"Muhammad bin murtza\")\n",
    "print(f\"the objects height is: {Muhammad.eyecolor}\")\n",
    "print(f\"the muhammad height is : {Muhammad.height}\")\n",
    "print(Muhammad.speaking(\"mithu\"))\n"
   ]
  },
  {
   "cell_type": "code",
   "execution_count": 4,
   "metadata": {},
   "outputs": [
    {
     "name": "stdout",
     "output_type": "stream",
     "text": [
      "10.0\n",
      "7\n"
     ]
    }
   ],
   "source": [
    "class Adder():\n",
    "    def add(self,x:int , y:int)-> int:\n",
    "        return x + y\n",
    "    def add(self, x:float, y:float)-> float:\n",
    "        return x+y\n",
    "obj: Adder = Adder()\n",
    "print(obj.add(7.0 , 3.0))\n",
    "print(obj.add(2,5))\n"
   ]
  },
  {
   "cell_type": "markdown",
   "metadata": {},
   "source": [
    "## Overloading"
   ]
  },
  {
   "cell_type": "code",
   "execution_count": 5,
   "metadata": {},
   "outputs": [
    {
     "name": "stdout",
     "output_type": "stream",
     "text": [
      "10.0\n",
      "7\n"
     ]
    }
   ],
   "source": [
    "class Adder():\n",
    "    def add(self,x:int , y:int)-> int:\n",
    "        return x + y\n",
    "    def add(self, x:float, y:float)-> float:\n",
    "        return x+y\n",
    "obj: Adder = Adder()\n",
    "print(obj.add(7.0 , 3.0))\n",
    "print(obj.add(2,5))\n",
    " \n",
    " "
   ]
  },
  {
   "cell_type": "code",
   "execution_count": 2,
   "metadata": {},
   "outputs": [
    {
     "name": "stdout",
     "output_type": "stream",
     "text": [
      "8.64\n",
      "432\n",
      "muhammad bin murtza\n"
     ]
    }
   ],
   "source": [
    "from typing import Union , overload\n",
    "\n",
    "@overload\n",
    "def add(x:int , y:int)-> int:\n",
    "    ...\n",
    "@overload\n",
    "def add(x:float, y:float)->float:\n",
    "    ...\n",
    "@overload\n",
    "def add(x:str , y:str)-> str:\n",
    "    ...\n",
    "\n",
    "def add(x:Union[int,str,float], y: Union[int,str,float])->Union[int,float,str]:\n",
    "    if isinstance(x, float) and isinstance(y , float):\n",
    "        return x + y\n",
    "    elif isinstance(x , int) and isinstance(y, int):\n",
    "        return x * y\n",
    "    elif isinstance(x , str) and isinstance(y , str):\n",
    "        return x + y\n",
    "    else:\n",
    "        raise TypeError(\"invalid argument types\")\n",
    "\n",
    "result1 = add(8.1,0.54)\n",
    "result2 = add(8,54)\n",
    "result3 = add(\"muhammad\", \" bin murtza\")\n",
    "print(result1)\n",
    "print(result2)\n",
    "print(result3)"
   ]
  },
  {
   "cell_type": "markdown",
   "metadata": {},
   "source": [
    "# Overriding and Polymorphism"
   ]
  },
  {
   "cell_type": "code",
   "execution_count": 4,
   "metadata": {},
   "outputs": [
    {
     "name": "stdout",
     "output_type": "stream",
     "text": [
      "Bird is eating bread\n",
      "Animal is eating bread\n"
     ]
    }
   ],
   "source": [
    "class Animal():\n",
    "    def eating(self, food : str) -> None:\n",
    "        print(f\"Animal is eating {food}\")\n",
    "\n",
    "class Bird(Animal):\n",
    "    def eating(self, food: str) -> None:\n",
    "        print(f\"Bird is eating {food}\")\n",
    "\n",
    "bird : Bird = Bird()\n",
    "bird.eating(\"bread\")\n",
    "\n",
    "animal : Animal = Animal()\n",
    "animal.eating(\"bread\")"
   ]
  },
  {
   "cell_type": "markdown",
   "metadata": {},
   "source": [
    "# Polymorphism"
   ]
  },
  {
   "cell_type": "code",
   "execution_count": 14,
   "metadata": {},
   "outputs": [
    {
     "name": "stdout",
     "output_type": "stream",
     "text": [
      "Bird is eating bread\n",
      "<class '__main__.Bird'>\n"
     ]
    }
   ],
   "source": [
    "animal : Animal = Bird()\n",
    "animal.eating(\"bread\")\n",
    "# animal : Bird = Animal()\n",
    "# animal.eating(\"bread\")\n",
    "print(type(animal))"
   ]
  },
  {
   "cell_type": "markdown",
   "metadata": {},
   "source": [
    "# Static Method"
   ]
  },
  {
   "cell_type": "code",
   "execution_count": 16,
   "metadata": {},
   "outputs": [
    {
     "name": "stdout",
     "output_type": "stream",
     "text": [
      "add 30\n"
     ]
    }
   ],
   "source": [
    "class Math():\n",
    "    @staticmethod\n",
    "    def add(x : int, y : int):\n",
    "        return x + y\n",
    "    @staticmethod\n",
    "    def multiply(x : int , y:int):\n",
    "        return x * y\n",
    "    \n",
    "    # using static method\n",
    "result_add = Math.add(10,20)\n",
    "result_multiply = Math.multiply(3,8)\n",
    "\n",
    "print(\"add\", result_add)"
   ]
  },
  {
   "cell_type": "code",
   "execution_count": 12,
   "metadata": {},
   "outputs": [
    {
     "name": "stdout",
     "output_type": "stream",
     "text": [
      "add 30\n"
     ]
    }
   ],
   "source": [
    "class Math():\n",
    "\n",
    "    @staticmethod\n",
    "    def add(x : int, y : int):\n",
    "        return x + y\n",
    "    \n",
    "    @staticmethod\n",
    "    def multiply(x : int , y:int):\n",
    "        return x * y\n",
    "    \n",
    "    # using static method\n",
    "result_add = Math.add(10,20)\n",
    "result_multiply = Math.multiply(3,8)\n",
    "\n",
    "print(\"add\", result_add)"
   ]
  },
  {
   "cell_type": "markdown",
   "metadata": {},
   "source": [
    "# Assignment"
   ]
  },
  {
   "cell_type": "code",
   "execution_count": 14,
   "metadata": {},
   "outputs": [
    {
     "name": "stdout",
     "output_type": "stream",
     "text": [
      "the car name is tesla\n",
      "the car speed  is : 330\n",
      "the car model is : 2020\n",
      "the charging time of tesla is : 3 hours\n",
      "the autopilot gen is : 2\n"
     ]
    }
   ],
   "source": [
    "from typing import Any\n",
    "car_name : str = input(\"what is your car name\")\n",
    "car_name_or = car_name.lower()\n",
    "class Cars():\n",
    "    def __init__(self,car_speed:str, car_model:int) -> None:\n",
    "        self.car_speed : str = car_speed\n",
    "        self.car_model : int = car_model\n",
    "class Tesla(Cars):\n",
    "    def __init__(self, car_speed : Any, car_model : Any , charge_time : Any, autopilot_gen : Any ) -> None:\n",
    "        super().__init__(car_speed, car_model)\n",
    "        self.charge_time : str = charge_time\n",
    "        self.autopilot_gen : int = autopilot_gen\n",
    "    \n",
    "    def tesla_input(self) -> None:\n",
    "        if car_name_or == \"tesla\":\n",
    "            self.car_speed = input(\"Please write the Tesla speed: \")\n",
    "            self.car_model = int(input(\"What is your Tesla model? \"))\n",
    "            self.charge_time = input(\"What is your Tesla charge time? \")\n",
    "            self.autopilot_gen = int(input(\"What is the autopilot generation of your Tesla? \"))\n",
    "        else:\n",
    "            pass\n",
    "    def tesla_print(self):\n",
    "        if car_name_or == \"tesla\":\n",
    "            print(f\"the car name is tesla\")\n",
    "            print(f\"the car speed  is : {self.car_speed}\")\n",
    "            print(f\"the car model is : {self.car_model}\")\n",
    "            print(f\"the charging time of tesla is : {self.charge_time}\")\n",
    "            if self.autopilot_gen < 3 and self.autopilot_gen > 0:\n",
    "                print(f\"the autopilot gen is : {self.autopilot_gen}\")\n",
    "            else:\n",
    "                print(\"invaid value written of autopilot gen\")\n",
    "        else:\n",
    "            pass\n",
    "if car_name_or == \"tesla\":\n",
    "    tesla : Tesla = Tesla(\"\",0,\"\",0)\n",
    "    tesla.tesla_input()\n",
    "    tesla.tesla_print()\n",
    "else:\n",
    "    pass\n",
    "\n"
   ]
  },
  {
   "cell_type": "code",
   "execution_count": 7,
   "metadata": {},
   "outputs": [
    {
     "name": "stdout",
     "output_type": "stream",
     "text": [
      "The car name is Tesla\n",
      "The car speed is: three \n",
      "The car model is: 2020\n",
      "The charging time of Tesla is: 5 hours\n",
      "The autopilot generation is: 2\n"
     ]
    }
   ],
   "source": [
    "from typing import Any\n",
    "\n",
    "class Cars:\n",
    "    def __init__(self, car_speed: str, car_model: int) -> None:\n",
    "        self.car_speed: str = car_speed\n",
    "        self.car_model: int = car_model\n",
    "\n",
    "class Tesla(Cars):\n",
    "    def __init__(self, car_speed: str, car_model: int, charge_time: str, autopilot_gen: int) -> None:\n",
    "        super().__init__(car_speed, car_model)\n",
    "        self.charge_time: str = charge_time\n",
    "        self.autopilot_gen: int = autopilot_gen\n",
    "    \n",
    "    def tesla_input(self) -> None:\n",
    "        self.car_speed = input(\"Please write the Tesla speed: \")\n",
    "        self.car_model = int(input(\"What is your Tesla model? \"))\n",
    "        self.charge_time = input(\"What is your Tesla charge time? \")\n",
    "        self.autopilot_gen = int(input(\"What is the autopilot generation of your Tesla? \"))\n",
    "    \n",
    "    def tesla_print(self) -> None:\n",
    "        print(f\"The car name is Tesla\")\n",
    "        print(f\"The car speed is: {self.car_speed}\")\n",
    "        print(f\"The car model is: {self.car_model}\")\n",
    "        print(f\"The charging time of Tesla is: {self.charge_time}\")\n",
    "        if 0 < self.autopilot_gen < 3:\n",
    "            print(f\"The autopilot generation is: {self.autopilot_gen}\")\n",
    "        else:\n",
    "            print(\"Invalid autopilot generation\")\n",
    "\n",
    "# Create a Tesla object, get inputs, and print details\n",
    "tesla = Tesla(\"\", 0, \"\", 0)  # Initialize with dummy values\n",
    "tesla.tesla_input()  # Get user inputs\n",
    "tesla.tesla_print()  # Print the attributes\n"
   ]
  },
  {
   "cell_type": "code",
   "execution_count": 1,
   "metadata": {},
   "outputs": [
    {
     "name": "stdout",
     "output_type": "stream",
     "text": [
      "35\n",
      "muhammad bin murtza\n"
     ]
    },
    {
     "ename": "TypeError",
     "evalue": "invalid type",
     "output_type": "error",
     "traceback": [
      "\u001b[1;31m---------------------------------------------------------------------------\u001b[0m",
      "\u001b[1;31mTypeError\u001b[0m                                 Traceback (most recent call last)",
      "Cell \u001b[1;32mIn[1], line 27\u001b[0m\n\u001b[0;32m     25\u001b[0m result2 \u001b[38;5;241m=\u001b[39m add(\u001b[38;5;124m\"\u001b[39m\u001b[38;5;124mmuhammad\u001b[39m\u001b[38;5;124m\"\u001b[39m,\u001b[38;5;124m\"\u001b[39m\u001b[38;5;124m bin murtza\u001b[39m\u001b[38;5;124m\"\u001b[39m)\n\u001b[0;32m     26\u001b[0m \u001b[38;5;28mprint\u001b[39m(result2)\n\u001b[1;32m---> 27\u001b[0m result3 \u001b[38;5;241m=\u001b[39m add(\u001b[38;5;241m5\u001b[39m,\u001b[38;5;124m\"\u001b[39m\u001b[38;5;124mmuhamamd\u001b[39m\u001b[38;5;124m\"\u001b[39m)\n\u001b[0;32m     28\u001b[0m \u001b[38;5;28mprint\u001b[39m(result3)\n",
      "Cell \u001b[1;32mIn[1], line 21\u001b[0m, in \u001b[0;36madd\u001b[1;34m(x, y)\u001b[0m\n\u001b[0;32m     19\u001b[0m       \u001b[38;5;28;01mreturn\u001b[39;00m x \u001b[38;5;241m/\u001b[39m y\n\u001b[0;32m     20\u001b[0m \u001b[38;5;28;01melse\u001b[39;00m:\n\u001b[1;32m---> 21\u001b[0m       \u001b[38;5;28;01mraise\u001b[39;00m \u001b[38;5;167;01mTypeError\u001b[39;00m(\u001b[38;5;124m\"\u001b[39m\u001b[38;5;124minvalid type\u001b[39m\u001b[38;5;124m\"\u001b[39m)\n",
      "\u001b[1;31mTypeError\u001b[0m: invalid type"
     ]
    }
   ],
   "source": [
    "from typing import overload\n",
    "@overload\n",
    "def add(x : int , y : int):\n",
    "        ...\n",
    "@overload\n",
    "def add(x : str , y : str):\n",
    "        ...\n",
    "@overload\n",
    "def add(x : float , y : float):\n",
    "        ...\n",
    "\n",
    "from typing import Union\n",
    "def add(x : Union[int,float,str], y : Union[int,float,str])-> Union[int,float,str]:\n",
    "    if isinstance(x , int) and isinstance(y , int):\n",
    "        return x * y\n",
    "    elif isinstance(x , str) and isinstance(y , str):\n",
    "          return x + y\n",
    "    elif isinstance(x , float) and isinstance(y , float):\n",
    "          return x / y\n",
    "    else:\n",
    "          raise TypeError(\"invalid type\")\n",
    "\n",
    "result1 = add(5,7)\n",
    "print(result1)\n",
    "result2 = add(\"muhammad\",\" bin murtza\")\n",
    "print(result2)\n",
    "result3 = add(5,\"muhamamd\")\n",
    "print(result3)"
   ]
  },
  {
   "cell_type": "code",
   "execution_count": 21,
   "metadata": {},
   "outputs": [
    {
     "name": "stdout",
     "output_type": "stream",
     "text": [
      "the car is : tesla\n"
     ]
    }
   ],
   "source": [
    "class Carss():\n",
    "    def car_name(self,name_of_car : str)-> None:\n",
    "        self.name_of_car : str = name_of_car\n",
    "        print(\"the name of the car is : {self.name_of_car}\")\n",
    "        \n",
    "class Best(Carss):\n",
    "    def car_name(self, hy_car: str) -> None:\n",
    "        self.hy_car : str = hy_car\n",
    "        print(f\"the car is : {self.hy_car}\")\n",
    "\n",
    "obj1 : Carss = Best()\n",
    "obj1.car_name(\"tesla\")"
   ]
  },
  {
   "cell_type": "markdown",
   "metadata": {},
   "source": [
    "# Still have to understand this code"
   ]
  },
  {
   "cell_type": "code",
   "execution_count": null,
   "metadata": {},
   "outputs": [],
   "source": [
    "class Mother:\n",
    "    def __init__(self, name:str) -> None:\n",
    "        self.name : str = name\n",
    "        self.eyecolor :str = \"blue\"\n",
    "    def speaking(self, words : str) -> str:\n",
    "        return f\"the words spoken by his mother are : {words}\"\n",
    "\n",
    "class Father:\n",
    "    def __init__(self, name : str) -> None:\n",
    "        self.name : str = name\n",
    "        self.height : str = \"7 feet\"\n",
    "\n",
    "class Child(Mother,Father):\n",
    "    def __init__(self, mother_name: str, father_name : str, child_name : str) -> None:\n",
    "        Mother.__init__(self, mother_name)\n",
    "        Father.__init__(self, father_name)\n",
    "        self.child_name = child_name\n",
    "\n",
    "Muhammad : Child = Child(\"naeema yaqoob\",\"Ghulam Murtza\",\"Muhammad bin murtza\")\n",
    "print(f\"the objects height is: {Muhammad.eyecolor}\")\n",
    "print(f\"the muhammad height is : {Muhammad.height}\")\n",
    "print(Muhammad.speaking(\"mithu\"))\n"
   ]
  }
 ],
 "metadata": {
  "kernelspec": {
   "display_name": "Python12==3.12",
   "language": "python",
   "name": "python3"
  },
  "language_info": {
   "codemirror_mode": {
    "name": "ipython",
    "version": 3
   },
   "file_extension": ".py",
   "mimetype": "text/x-python",
   "name": "python",
   "nbconvert_exporter": "python",
   "pygments_lexer": "ipython3",
   "version": "3.12.4"
  }
 },
 "nbformat": 4,
 "nbformat_minor": 2
}
