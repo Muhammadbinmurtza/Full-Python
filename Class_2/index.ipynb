{
 "cells": [
  {
   "cell_type": "markdown",
   "metadata": {},
   "source": [
    "String data types in python\n"
   ]
  },
  {
   "cell_type": "code",
   "execution_count": null,
   "metadata": {},
   "outputs": [],
   "source": [
    "message : str = 'piaic student /n father\\'s name'\n",
    "#this is the  error in 'str'\n",
    "# so we need to convert literals into \"str\"\n",
    "# If we putt \\ \"slash\" before special chracter it will take it as  special chracter"
   ]
  },
  {
   "cell_type": "code",
   "execution_count": 8,
   "metadata": {},
   "outputs": [
    {
     "name": "stdout",
     "output_type": "stream",
     "text": [
      "12\n"
     ]
    }
   ],
   "source": [
    "print(7 +\\\n",
    "       3 +\\\n",
    "        2)\n",
    "# Back slash \\ uses for continuation"
   ]
  },
  {
   "cell_type": "code",
   "execution_count": 7,
   "metadata": {},
   "outputs": [
    {
     "data": {
      "text/plain": [
       "'a7'"
      ]
     },
     "execution_count": 7,
     "metadata": {},
     "output_type": "execute_result"
    }
   ],
   "source": [
    "#to  use \"+\" the both sides should have same data types\n",
    "#so we will change the one data type to same as other\n",
    "#like\n",
    "\"a\" +  str(7)\n"
   ]
  },
  {
   "cell_type": "code",
   "execution_count": 6,
   "metadata": {},
   "outputs": [
    {
     "name": "stdout",
     "output_type": "stream",
     "text": [
      "muhammad bin murtza \n",
      "Mian sbone twelve\n"
     ]
    }
   ],
   "source": [
    "name : str = \"muhammad bin murtza\"\n",
    "time : str = \"one twelve\"\n",
    "print(name, \"\\nMian sb\" + time)"
   ]
  },
  {
   "cell_type": "code",
   "execution_count": 2,
   "metadata": {},
   "outputs": [
    {
     "data": {
      "text/plain": [
       "'abc'"
      ]
     },
     "execution_count": 2,
     "metadata": {},
     "output_type": "execute_result"
    }
   ],
   "source": [
    "# + will combine the chracters of strings\n",
    "\"a\" + \"b\" + \"c\""
   ]
  },
  {
   "cell_type": "code",
   "execution_count": 1,
   "metadata": {},
   "outputs": [
    {
     "name": "stdout",
     "output_type": "stream",
     "text": [
      "muhammad\n",
      "<class 'str'>\n"
     ]
    }
   ],
   "source": [
    "name =  \"muhammad\"\n",
    "print(name)\n",
    "print(type(name))"
   ]
  },
  {
   "cell_type": "markdown",
   "metadata": {},
   "source": [
    "multiline string"
   ]
  },
  {
   "cell_type": "code",
   "execution_count": 9,
   "metadata": {},
   "outputs": [
    {
     "name": "stdout",
     "output_type": "stream",
     "text": [
      "\"mian  sb\n",
      "the great\n",
      "\n"
     ]
    }
   ],
   "source": [
    "#  we  use \"\"\"\"\"\" for  using new line  without \\n\n",
    "print(\"\"\"\"mian  sb\n",
    "the great\n",
    "\"\"\")"
   ]
  },
  {
   "cell_type": "markdown",
   "metadata": {},
   "source": [
    "F STRING (MOST IMPORTANT)"
   ]
  },
  {
   "cell_type": "code",
   "execution_count": 10,
   "metadata": {},
   "outputs": [
    {
     "name": "stdout",
     "output_type": "stream",
     "text": [
      "\n",
      "Piaic student data\n",
      "Student name = muhammad\n",
      "Stident age = 18\n",
      "Student education = intermediate\n",
      "Student caste = Arain\n",
      "\n"
     ]
    }
   ],
   "source": [
    "name : str = \"muhammad\"\n",
    "age : int = 18\n",
    "education : str = \"intermediate\"\n",
    "caste : str = \"Arain\"\n",
    "overallData : str = f\"\"\"\n",
    "Piaic student data\n",
    "Student name = {name}\n",
    "Stident age = {age}\n",
    "Student education = {education}\n",
    "Student caste = {caste}\n",
    "\"\"\"\n",
    "print(overallData)\n",
    "\n",
    "# f string helped us to not change the data type of age\n",
    "# f string  can also run any numeric like 1 + 2 + 3  in it\n",
    "# there's  also jinja f string in which we use two cotations {{}}"
   ]
  },
  {
   "cell_type": "code",
   "execution_count": 23,
   "metadata": {},
   "outputs": [
    {
     "name": "stdout",
     "output_type": "stream",
     "text": [
      "h, \n",
      "Mm = Mian\n",
      "Nm = Muhamamd\n",
      "\n"
     ]
    }
   ],
   "source": [
    "first_name : str = \"mian\"\n",
    "last_name : str = \"muhamamd\"\n",
    "message : str  = f\"\"\"\n",
    "mm = {first_name}\n",
    "nm = {last_name}\n",
    "\"\"\"\n",
    "details : str = f\"h, {message.title()}\"\n",
    "print(details)"
   ]
  },
  {
   "cell_type": "code",
   "execution_count": 2,
   "metadata": {},
   "outputs": [
    {
     "name": "stdout",
     "output_type": "stream",
     "text": [
      "\n",
      "Name of student: Muhammad\n",
      "Age of student:18\n",
      "education of student:Intermediate\n",
      "program chosen:Machine learning\n",
      "city area:Faisalabad\n",
      "id number:5000100\n",
      "\n"
     ]
    }
   ],
   "source": [
    "name: str = \"  muhammad\"\n",
    "age : int = 18\n",
    "education : str = \" intermediate\"\n",
    "program : str = \" machine learning\"\n",
    "city : str = \" faisalabad\"\n",
    "id : int =  5000100\n",
    "overall_data : str = f\"\"\"\n",
    "Name of student: {name.lstrip().capitalize()}\n",
    "Age of student:{age}\n",
    "education of student:{education.lstrip().capitalize()}\n",
    "program chosen:{program.lstrip().capitalize()}\n",
    "city area:{city.lstrip().capitalize()}\n",
    "id number:{id}\n",
    "\"\"\"\n",
    "print(overall_data)\n",
    "#done by me"
   ]
  },
  {
   "cell_type": "code",
   "execution_count": 12,
   "metadata": {},
   "outputs": [
    {
     "name": "stdout",
     "output_type": "stream",
     "text": [
      "\n",
      "Piaic student data\n",
      "Student name = muhammad\n",
      "Stident age = 18\n",
      "Student education = intermediate\n",
      "Student caste = Arain\n",
      "\n"
     ]
    }
   ],
   "source": [
    "name : str = \"muhammad\"\n",
    "age : int = 18\n",
    "education : str = \"intermediate\"\n",
    "caste : str = \"Arain\"\n",
    "overallData : str = f\"\"\"\n",
    "Piaic student data\n",
    "Student name = %s\n",
    "Stident age = %d\n",
    "Student education = %s\n",
    "Student caste = %s\n",
    "\"\"\" %(name,age,education,caste)\n",
    "print(overallData)\n",
    "# this is the old  way we used in C language"
   ]
  },
  {
   "cell_type": "code",
   "execution_count": null,
   "metadata": {},
   "outputs": [],
   "source": [
    "# attributes in string\n",
    "#will  do in night"
   ]
  },
  {
   "cell_type": "markdown",
   "metadata": {},
   "source": [
    ".FORMAT && INDEX"
   ]
  },
  {
   "cell_type": "code",
   "execution_count": 17,
   "metadata": {},
   "outputs": [
    {
     "data": {
      "text/plain": [
       "'pak value a = 3 and value b = 4'"
      ]
     },
     "execution_count": 17,
     "metadata": {},
     "output_type": "execute_result"
    }
   ],
   "source": [
    "a = 3\n",
    "b = 4\n",
    "# { } place holder\n",
    "#              0(index)         1(index)   0,1  \n",
    "\"pak value a = {} and value b = {}\".format(a,b)\n",
    "# here the .format is specifying the value with the help of  index"
   ]
  },
  {
   "cell_type": "code",
   "execution_count": 3,
   "metadata": {},
   "outputs": [
    {
     "name": "stdout",
     "output_type": "stream",
     "text": [
      "\n",
      "Piaic student data\n",
      "Student name = muhammad\n",
      "Student age = 18\n",
      "Student education =intermediate \n",
      "Student caste = Arain\n",
      "\n"
     ]
    }
   ],
   "source": [
    "name : str = \"muhammad\"\n",
    "age : int = 18 \n",
    "education : str = \"intermediate\"\n",
    "caste : str = \"Arain\"\n",
    "overallData : str = \"\"\"\n",
    "Piaic student data\n",
    "Student name = {3}\n",
    "Student age = {0}\n",
    "Student education ={2} \n",
    "Student caste = {1}\n",
    "\"\"\".format(age, caste,  education, name)\n",
    "print(overallData)\n",
    "# in .format we can just putt the index number according to right order to get the right results\n",
    "#Piaic student data\n",
    "#Student name = {3}\n",
    "#Student age = {0}\n",
    "#Student education ={2} \n",
    "#Student caste = {1}"
   ]
  },
  {
   "cell_type": "code",
   "execution_count": 4,
   "metadata": {},
   "outputs": [
    {
     "name": "stdout",
     "output_type": "stream",
     "text": [
      "\n",
      "Name of student:  muhammad\n",
      "Age of student:18\n",
      "education of student: intermediate\n",
      "program chosen: machine learning\n",
      "city area: faisalabad\n",
      "id number:5000100\n",
      "\n"
     ]
    }
   ],
   "source": [
    "name: str = \"  muhammad\"\n",
    "age : int = 18\n",
    "education : str = \" intermediate\"\n",
    "program : str = \" machine learning\"\n",
    "city : str = \" faisalabad\"\n",
    "id : int =  5000100\n",
    "overall_data : str = \"\"\"\n",
    "Name of student:{}\n",
    "Age of student:{}\n",
    "education of student:{}\n",
    "program chosen:{}\n",
    "city area:{}\n",
    "id number:{}\n",
    "\"\"\".format(name,age,education,program,city,id)\n",
    "print(overall_data)\n",
    "#using .format"
   ]
  },
  {
   "cell_type": "code",
   "execution_count": 11,
   "metadata": {},
   "outputs": [
    {
     "name": "stdout",
     "output_type": "stream",
     "text": [
      "['__add__', '__class__', '__contains__', '__delattr__', '__dir__', '__doc__', '__eq__', '__format__', '__ge__', '__getattribute__', '__getitem__', '__getnewargs__', '__getstate__', '__gt__', '__hash__', '__init__', '__init_subclass__', '__iter__', '__le__', '__len__', '__lt__', '__mod__', '__mul__', '__ne__', '__new__', '__reduce__', '__reduce_ex__', '__repr__', '__rmod__', '__rmul__', '__setattr__', '__sizeof__', '__str__', '__subclasshook__', 'capitalize', 'casefold', 'center', 'count', 'encode', 'endswith', 'expandtabs', 'find', 'format', 'format_map', 'index', 'isalnum', 'isalpha', 'isascii', 'isdecimal', 'isdigit', 'isidentifier', 'islower', 'isnumeric', 'isprintable', 'isspace', 'istitle', 'isupper', 'join', 'ljust', 'lower', 'lstrip', 'maketrans', 'partition', 'removeprefix', 'removesuffix', 'replace', 'rfind', 'rindex', 'rjust', 'rpartition', 'rsplit', 'rstrip', 'split', 'splitlines', 'startswith', 'strip', 'swapcase', 'title', 'translate', 'upper', 'zfill']\n"
     ]
    }
   ],
   "source": [
    "name : str = \"muhammad\"\n",
    "age : any = \"18 years\"\n",
    "education : str = \"intermediate\"\n",
    "caste : str = \"Arain\"\n",
    "overallData : str = \"\"\"\n",
    "Piaic student data\n",
    "Student name = {a}\n",
    "Student age = {b}\n",
    "Student education ={c} \n",
    "Student caste = {d}\n",
    "\"\"\".format(a = name, b = age,  c  = education, d = caste)\n",
    "print(overallData) \n",
    "#we can also putt keywords instead of indexing in the .format where we are retrieving the values of variables\n",
    "#Student name = {a}\n",
    "#Student age = {b}\n",
    "#Student education ={c} \n",
    "#Student caste = {d}\n"
   ]
  },
  {
   "cell_type": "markdown",
   "metadata": {},
   "source": [
    "The recommended ways are .format and f string"
   ]
  },
  {
   "cell_type": "markdown",
   "metadata": {},
   "source": [
    "Explore string methods and attributes"
   ]
  },
  {
   "cell_type": "code",
   "execution_count": 9,
   "metadata": {},
   "outputs": [
    {
     "name": "stdout",
     "output_type": "stream",
     "text": [
      "['capitalize', 'casefold', 'center', 'count', 'encode', 'endswith', 'expandtabs', 'find', 'format', 'format_map', 'index', 'isalnum', 'isalpha', 'isascii', 'isdecimal', 'isdigit', 'isidentifier', 'islower', 'isnumeric', 'isprintable', 'isspace', 'istitle', 'isupper', 'join', 'ljust', 'lower', 'lstrip', 'maketrans', 'partition', 'removeprefix', 'removesuffix', 'replace', 'rfind', 'rindex', 'rjust', 'rpartition', 'rsplit', 'rstrip', 'split', 'splitlines', 'startswith', 'strip', 'swapcase', 'title', 'translate', 'upper', 'zfill']\n",
      "47\n"
     ]
    }
   ],
   "source": [
    "a: list[str] = [i for i in dir(str) if \"__\" not in i]\n",
    "print(a)\n",
    "print(len(a))"
   ]
  },
  {
   "cell_type": "code",
   "execution_count": 18,
   "metadata": {},
   "outputs": [
    {
     "name": "stdout",
     "output_type": "stream",
     "text": [
      "muhammad mian     \n"
     ]
    }
   ],
   "source": [
    "name : str = \"      muhammad mian     \"\n",
    "display(name.lstrip())\n",
    "# lstrip helps to remove spaces from start(means from left side) of variable's value"
   ]
  },
  {
   "cell_type": "code",
   "execution_count": 19,
   "metadata": {},
   "outputs": [
    {
     "name": "stdout",
     "output_type": "stream",
     "text": [
      "      muhammad mian\n"
     ]
    }
   ],
   "source": [
    "name : str = \"      muhammad mian     \"\n",
    "display(name.rstrip())\n",
    "# rstrip removes spaces from the right side"
   ]
  },
  {
   "cell_type": "code",
   "execution_count": 20,
   "metadata": {},
   "outputs": [
    {
     "name": "stdout",
     "output_type": "stream",
     "text": [
      "muhammad mian\n"
     ]
    }
   ],
   "source": [
    "name : str = \"      muhammad mian     \"\n",
    "display(name.strip())\n",
    "#strip removes from the both  sides of variable's value"
   ]
  },
  {
   "cell_type": "code",
   "execution_count": 21,
   "metadata": {},
   "outputs": [
    {
     "data": {
      "text/plain": [
       "'Muhammad Mian'"
      ]
     },
     "metadata": {},
     "output_type": "display_data"
    }
   ],
   "source": [
    "name : str = \"muhammad mian\"\n",
    "display(name.title())\n",
    "# title make first letter of every word capital"
   ]
  },
  {
   "cell_type": "code",
   "execution_count": 22,
   "metadata": {},
   "outputs": [
    {
     "data": {
      "text/plain": [
       "'MUHAMMAD MIAN'"
      ]
     },
     "metadata": {},
     "output_type": "display_data"
    },
    {
     "data": {
      "text/plain": [
       "'muhammad mian'"
      ]
     },
     "metadata": {},
     "output_type": "display_data"
    }
   ],
   "source": [
    "name : str = \"muhammad mian\"\n",
    "display(name.upper())\n",
    "display(name.lower())"
   ]
  },
  {
   "cell_type": "code",
   "execution_count": 24,
   "metadata": {},
   "outputs": [
    {
     "name": "stdout",
     "output_type": "stream",
     "text": [
      "mian :\t\t ali ali\n"
     ]
    }
   ],
   "source": [
    "print(\"mian :\\t\\t ali ali\")\n",
    "# \\t adds tabs or you can say spaces"
   ]
  },
  {
   "cell_type": "code",
   "execution_count": 25,
   "metadata": {},
   "outputs": [
    {
     "name": "stdout",
     "output_type": "stream",
     "text": [
      "mian :\n",
      " ali ali\n"
     ]
    }
   ],
   "source": [
    "print(\"mian :\\n ali ali\")\n",
    "# \\n changes the line"
   ]
  },
  {
   "cell_type": "code",
   "execution_count": 26,
   "metadata": {},
   "outputs": [
    {
     "name": "stdout",
     "output_type": "stream",
     "text": [
      "mian  ali ali\n"
     ]
    }
   ],
   "source": [
    "print(\"mian :\\b ali ali\")\n",
    "# \\b works as backspace and removes the chracter before it\n"
   ]
  },
  {
   "cell_type": "code",
   "execution_count": 1,
   "metadata": {},
   "outputs": [
    {
     "name": "stdout",
     "output_type": "stream",
     "text": [
      "techreport.com\n"
     ]
    }
   ],
   "source": [
    "url_remove : str  = \"https://techreport.com/\"\n",
    "new_url : str = f\"{url_remove.removeprefix(\"https://\")}\".removesuffix(\"/\")\n",
    "print(new_url)\n",
    "# removeprefix uses to remove some part from start and removesuffix uses to remove some part from the last"
   ]
  }
 ],
 "metadata": {
  "kernelspec": {
   "display_name": "Python13",
   "language": "python",
   "name": "python3"
  },
  "language_info": {
   "codemirror_mode": {
    "name": "ipython",
    "version": 3
   },
   "file_extension": ".py",
   "mimetype": "text/x-python",
   "name": "python",
   "nbconvert_exporter": "python",
   "pygments_lexer": "ipython3",
   "version": "3.12.0"
  }
 },
 "nbformat": 4,
 "nbformat_minor": 2
}
